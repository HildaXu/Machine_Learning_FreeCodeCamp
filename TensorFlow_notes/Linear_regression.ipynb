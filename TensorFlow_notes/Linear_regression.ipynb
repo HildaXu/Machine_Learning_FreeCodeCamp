{
  "cells": [
    {
      "cell_type": "markdown",
      "metadata": {
        "id": "82ao9ejY5Zpd"
      },
      "source": [
        "Shape\n"
      ]
    },
    {
      "cell_type": "code",
      "execution_count": null,
      "metadata": {
        "colab": {
          "base_uri": "https://localhost:8080/"
        },
        "id": "KJqOFGe75cMC",
        "outputId": "f9cdc303-c98b-4594-be1e-cdc926355d8f"
      },
      "outputs": [
        {
          "name": "stdout",
          "output_type": "stream",
          "text": [
            "<module 'tensorflow._api.v2.version' from '/usr/local/lib/python3.7/dist-packages/tensorflow/_api/v2/version/__init__.py'>\n"
          ]
        }
      ],
      "source": [
        "import tensorflow as tf\n",
        "print(tf.version)\n",
        "\n",
        "t = tf.zeros([5,5,5,5])\n",
        "\n",
        "t = tf.reshape(t, [125, -1])\n",
        "\n"
      ]
    },
    {
      "cell_type": "markdown",
      "metadata": {
        "id": "3o7-jq4m8ETb"
      },
      "source": [
        "Linear regression \n"
      ]
    },
    {
      "cell_type": "code",
      "execution_count": null,
      "metadata": {
        "id": "uGG5gmwv8w-Q"
      },
      "outputs": [],
      "source": [
        "! pip install -q sklearn"
      ]
    },
    {
      "cell_type": "code",
      "execution_count": null,
      "metadata": {
        "colab": {
          "base_uri": "https://localhost:8080/"
        },
        "id": "FHupwcWG9SPy",
        "outputId": "809eb370-caae-4c84-98da-4842fc7722ac"
      },
      "outputs": [
        {
          "name": "stdout",
          "output_type": "stream",
          "text": [
            "<module 'tensorflow._api.v2.version' from '/usr/local/lib/python3.7/dist-packages/tensorflow/_api/v2/version/__init__.py'>\n"
          ]
        }
      ],
      "source": [
        "print(tf.version)"
      ]
    },
    {
      "cell_type": "code",
      "execution_count": null,
      "metadata": {
        "id": "zrRMlLob854H"
      },
      "outputs": [],
      "source": [
        "from __future__ import absolute_import, division, print_function, unicode_literals\n",
        "\n",
        "import numpy as np\n",
        "import pandas as pd\n",
        "import matplotlib.pyplot as plt\n",
        "from IPython.display import clear_output\n",
        "from six.moves import urllib\n",
        "\n",
        "from tensorflow import feature_column as fc\n",
        "#fc= feature_column.numeric_column\n",
        "#import tensorflow.compat.v2.feature_colum as fc\n",
        "\n",
        "import tensorflow as tf"
      ]
    },
    {
      "cell_type": "markdown",
      "metadata": {
        "id": "f-4gMSnY-fH_"
      },
      "source": [
        "data\n"
      ]
    },
    {
      "cell_type": "code",
      "execution_count": null,
      "metadata": {
        "colab": {
          "base_uri": "https://localhost:8080/"
        },
        "id": "dWNUGVCU-gCm",
        "outputId": "17335881-29f5-4e3b-e936-c3d3431043b1"
      },
      "outputs": [
        {
          "name": "stdout",
          "output_type": "stream",
          "text": [
            "   survived     sex   age  ...     deck  embark_town  alone\n",
            "0         0    male  22.0  ...  unknown  Southampton      n\n",
            "1         1  female  38.0  ...        C    Cherbourg      n\n",
            "2         1  female  26.0  ...  unknown  Southampton      y\n",
            "3         1  female  35.0  ...        C  Southampton      n\n",
            "4         0    male  28.0  ...  unknown   Queenstown      y\n",
            "\n",
            "[5 rows x 10 columns]\n",
            "      sex   age  n_siblings_spouses  parch  ...  class     deck  embark_town alone\n",
            "0    male  22.0                   1      0  ...  Third  unknown  Southampton     n\n",
            "1  female  38.0                   1      0  ...  First        C    Cherbourg     n\n",
            "2  female  26.0                   0      0  ...  Third  unknown  Southampton     y\n",
            "3  female  35.0                   1      0  ...  First        C  Southampton     n\n",
            "4    male  28.0                   0      0  ...  Third  unknown   Queenstown     y\n",
            "\n",
            "[5 rows x 9 columns]\n",
            "0      0\n",
            "1      1\n",
            "2      1\n",
            "3      1\n",
            "4      0\n",
            "      ..\n",
            "622    0\n",
            "623    0\n",
            "624    1\n",
            "625    0\n",
            "626    0\n",
            "Name: survived, Length: 627, dtype: int64\n",
            "sex                          male\n",
            "age                            22\n",
            "n_siblings_spouses              1\n",
            "parch                           0\n",
            "fare                         7.25\n",
            "class                       Third\n",
            "deck                      unknown\n",
            "embark_town           Southampton\n",
            "alone                           n\n",
            "Name: 0, dtype: object 0\n"
          ]
        }
      ],
      "source": [
        "dftrain = pd.read_csv('https://storage.googleapis.com/tf-datasets/titanic/train.csv')\n",
        "dfeval = pd.read_csv('https://storage.googleapis.com/tf-datasets/titanic/eval.csv')\n",
        "print(dftrain.head())\n",
        "y_train = dftrain.pop('survived')\n",
        "y_eval = dfeval.pop('survived')\n",
        "print(dftrain.head())\n",
        "print(y_train)\n",
        "print(dftrain.loc[0], y_train.loc[0])"
      ]
    },
    {
      "cell_type": "code",
      "execution_count": null,
      "metadata": {
        "colab": {
          "base_uri": "https://localhost:8080/",
          "height": 300
        },
        "id": "0ErBeImVBngN",
        "outputId": "9426d18e-da91-48b2-a896-237d5528f81b"
      },
      "outputs": [
        {
          "data": {
            "text/html": [
              "\n",
              "  <div id=\"df-a780c4ca-7214-474b-a455-b0e666a1e560\">\n",
              "    <div class=\"colab-df-container\">\n",
              "      <div>\n",
              "<style scoped>\n",
              "    .dataframe tbody tr th:only-of-type {\n",
              "        vertical-align: middle;\n",
              "    }\n",
              "\n",
              "    .dataframe tbody tr th {\n",
              "        vertical-align: top;\n",
              "    }\n",
              "\n",
              "    .dataframe thead th {\n",
              "        text-align: right;\n",
              "    }\n",
              "</style>\n",
              "<table border=\"1\" class=\"dataframe\">\n",
              "  <thead>\n",
              "    <tr style=\"text-align: right;\">\n",
              "      <th></th>\n",
              "      <th>age</th>\n",
              "      <th>n_siblings_spouses</th>\n",
              "      <th>parch</th>\n",
              "      <th>fare</th>\n",
              "    </tr>\n",
              "  </thead>\n",
              "  <tbody>\n",
              "    <tr>\n",
              "      <th>count</th>\n",
              "      <td>627.000000</td>\n",
              "      <td>627.000000</td>\n",
              "      <td>627.000000</td>\n",
              "      <td>627.000000</td>\n",
              "    </tr>\n",
              "    <tr>\n",
              "      <th>mean</th>\n",
              "      <td>29.631308</td>\n",
              "      <td>0.545455</td>\n",
              "      <td>0.379585</td>\n",
              "      <td>34.385399</td>\n",
              "    </tr>\n",
              "    <tr>\n",
              "      <th>std</th>\n",
              "      <td>12.511818</td>\n",
              "      <td>1.151090</td>\n",
              "      <td>0.792999</td>\n",
              "      <td>54.597730</td>\n",
              "    </tr>\n",
              "    <tr>\n",
              "      <th>min</th>\n",
              "      <td>0.750000</td>\n",
              "      <td>0.000000</td>\n",
              "      <td>0.000000</td>\n",
              "      <td>0.000000</td>\n",
              "    </tr>\n",
              "    <tr>\n",
              "      <th>25%</th>\n",
              "      <td>23.000000</td>\n",
              "      <td>0.000000</td>\n",
              "      <td>0.000000</td>\n",
              "      <td>7.895800</td>\n",
              "    </tr>\n",
              "    <tr>\n",
              "      <th>50%</th>\n",
              "      <td>28.000000</td>\n",
              "      <td>0.000000</td>\n",
              "      <td>0.000000</td>\n",
              "      <td>15.045800</td>\n",
              "    </tr>\n",
              "    <tr>\n",
              "      <th>75%</th>\n",
              "      <td>35.000000</td>\n",
              "      <td>1.000000</td>\n",
              "      <td>0.000000</td>\n",
              "      <td>31.387500</td>\n",
              "    </tr>\n",
              "    <tr>\n",
              "      <th>max</th>\n",
              "      <td>80.000000</td>\n",
              "      <td>8.000000</td>\n",
              "      <td>5.000000</td>\n",
              "      <td>512.329200</td>\n",
              "    </tr>\n",
              "  </tbody>\n",
              "</table>\n",
              "</div>\n",
              "      <button class=\"colab-df-convert\" onclick=\"convertToInteractive('df-a780c4ca-7214-474b-a455-b0e666a1e560')\"\n",
              "              title=\"Convert this dataframe to an interactive table.\"\n",
              "              style=\"display:none;\">\n",
              "        \n",
              "  <svg xmlns=\"http://www.w3.org/2000/svg\" height=\"24px\"viewBox=\"0 0 24 24\"\n",
              "       width=\"24px\">\n",
              "    <path d=\"M0 0h24v24H0V0z\" fill=\"none\"/>\n",
              "    <path d=\"M18.56 5.44l.94 2.06.94-2.06 2.06-.94-2.06-.94-.94-2.06-.94 2.06-2.06.94zm-11 1L8.5 8.5l.94-2.06 2.06-.94-2.06-.94L8.5 2.5l-.94 2.06-2.06.94zm10 10l.94 2.06.94-2.06 2.06-.94-2.06-.94-.94-2.06-.94 2.06-2.06.94z\"/><path d=\"M17.41 7.96l-1.37-1.37c-.4-.4-.92-.59-1.43-.59-.52 0-1.04.2-1.43.59L10.3 9.45l-7.72 7.72c-.78.78-.78 2.05 0 2.83L4 21.41c.39.39.9.59 1.41.59.51 0 1.02-.2 1.41-.59l7.78-7.78 2.81-2.81c.8-.78.8-2.07 0-2.86zM5.41 20L4 18.59l7.72-7.72 1.47 1.35L5.41 20z\"/>\n",
              "  </svg>\n",
              "      </button>\n",
              "      \n",
              "  <style>\n",
              "    .colab-df-container {\n",
              "      display:flex;\n",
              "      flex-wrap:wrap;\n",
              "      gap: 12px;\n",
              "    }\n",
              "\n",
              "    .colab-df-convert {\n",
              "      background-color: #E8F0FE;\n",
              "      border: none;\n",
              "      border-radius: 50%;\n",
              "      cursor: pointer;\n",
              "      display: none;\n",
              "      fill: #1967D2;\n",
              "      height: 32px;\n",
              "      padding: 0 0 0 0;\n",
              "      width: 32px;\n",
              "    }\n",
              "\n",
              "    .colab-df-convert:hover {\n",
              "      background-color: #E2EBFA;\n",
              "      box-shadow: 0px 1px 2px rgba(60, 64, 67, 0.3), 0px 1px 3px 1px rgba(60, 64, 67, 0.15);\n",
              "      fill: #174EA6;\n",
              "    }\n",
              "\n",
              "    [theme=dark] .colab-df-convert {\n",
              "      background-color: #3B4455;\n",
              "      fill: #D2E3FC;\n",
              "    }\n",
              "\n",
              "    [theme=dark] .colab-df-convert:hover {\n",
              "      background-color: #434B5C;\n",
              "      box-shadow: 0px 1px 3px 1px rgba(0, 0, 0, 0.15);\n",
              "      filter: drop-shadow(0px 1px 2px rgba(0, 0, 0, 0.3));\n",
              "      fill: #FFFFFF;\n",
              "    }\n",
              "  </style>\n",
              "\n",
              "      <script>\n",
              "        const buttonEl =\n",
              "          document.querySelector('#df-a780c4ca-7214-474b-a455-b0e666a1e560 button.colab-df-convert');\n",
              "        buttonEl.style.display =\n",
              "          google.colab.kernel.accessAllowed ? 'block' : 'none';\n",
              "\n",
              "        async function convertToInteractive(key) {\n",
              "          const element = document.querySelector('#df-a780c4ca-7214-474b-a455-b0e666a1e560');\n",
              "          const dataTable =\n",
              "            await google.colab.kernel.invokeFunction('convertToInteractive',\n",
              "                                                     [key], {});\n",
              "          if (!dataTable) return;\n",
              "\n",
              "          const docLinkHtml = 'Like what you see? Visit the ' +\n",
              "            '<a target=\"_blank\" href=https://colab.research.google.com/notebooks/data_table.ipynb>data table notebook</a>'\n",
              "            + ' to learn more about interactive tables.';\n",
              "          element.innerHTML = '';\n",
              "          dataTable['output_type'] = 'display_data';\n",
              "          await google.colab.output.renderOutput(dataTable, element);\n",
              "          const docLink = document.createElement('div');\n",
              "          docLink.innerHTML = docLinkHtml;\n",
              "          element.appendChild(docLink);\n",
              "        }\n",
              "      </script>\n",
              "    </div>\n",
              "  </div>\n",
              "  "
            ],
            "text/plain": [
              "              age  n_siblings_spouses       parch        fare\n",
              "count  627.000000          627.000000  627.000000  627.000000\n",
              "mean    29.631308            0.545455    0.379585   34.385399\n",
              "std     12.511818            1.151090    0.792999   54.597730\n",
              "min      0.750000            0.000000    0.000000    0.000000\n",
              "25%     23.000000            0.000000    0.000000    7.895800\n",
              "50%     28.000000            0.000000    0.000000   15.045800\n",
              "75%     35.000000            1.000000    0.000000   31.387500\n",
              "max     80.000000            8.000000    5.000000  512.329200"
            ]
          },
          "execution_count": 31,
          "metadata": {},
          "output_type": "execute_result"
        }
      ],
      "source": [
        "dftrain.describe()"
      ]
    },
    {
      "cell_type": "code",
      "execution_count": null,
      "metadata": {
        "colab": {
          "base_uri": "https://localhost:8080/"
        },
        "id": "APDOgkdrBu9l",
        "outputId": "a9723e04-2fc7-415e-e1f0-1de486a99c28"
      },
      "outputs": [
        {
          "data": {
            "text/plain": [
              "(627, 9)"
            ]
          },
          "execution_count": 33,
          "metadata": {},
          "output_type": "execute_result"
        }
      ],
      "source": [
        "dftrain.shape"
      ]
    },
    {
      "cell_type": "code",
      "execution_count": null,
      "metadata": {
        "colab": {
          "base_uri": "https://localhost:8080/",
          "height": 282
        },
        "id": "h099KONhB3Uq",
        "outputId": "fd8b44e8-8d36-4615-ef5a-bef7424afdfc"
      },
      "outputs": [
        {
          "data": {
            "text/plain": [
              "<matplotlib.axes._subplots.AxesSubplot at 0x7f864517b310>"
            ]
          },
          "execution_count": 34,
          "metadata": {},
          "output_type": "execute_result"
        },
        {
          "data": {
            "image/png": "[encoded data removed]",
            "text/plain": [
              "<Figure size 432x288 with 1 Axes>"
            ]
          },
          "metadata": {},
          "output_type": "display_data"
        }
      ],
      "source": [
        "dftrain.age.hist(bins=20)"
      ]
    },
    {
      "cell_type": "code",
      "execution_count": null,
      "metadata": {
        "colab": {
          "base_uri": "https://localhost:8080/",
          "height": 282
        },
        "id": "mmxWo-2rCBnL",
        "outputId": "5c964899-d71f-4ddd-8b47-220a0a7952cd"
      },
      "outputs": [
        {
          "data": {
            "text/plain": [
              "<matplotlib.axes._subplots.AxesSubplot at 0x7f8644b937d0>"
            ]
          },
          "execution_count": 35,
          "metadata": {},
          "output_type": "execute_result"
        },
        {
          "data": {
            "image/png": "[encoded data removed]",
            "text/plain": [
              "<Figure size 432x288 with 1 Axes>"
            ]
          },
          "metadata": {},
          "output_type": "display_data"
        }
      ],
      "source": [
        "dftrain.sex.value_counts().plot(kind = 'barh')"
      ]
    },
    {
      "cell_type": "code",
      "execution_count": null,
      "metadata": {
        "colab": {
          "base_uri": "https://localhost:8080/",
          "height": 282
        },
        "id": "A-sDz8rzCNcC",
        "outputId": "392c1fdc-a2e6-40e4-edf3-7694fe0d4ff1"
      },
      "outputs": [
        {
          "data": {
            "text/plain": [
              "<matplotlib.axes._subplots.AxesSubplot at 0x7f86445ca950>"
            ]
          },
          "execution_count": 36,
          "metadata": {},
          "output_type": "execute_result"
        },
        {
          "data": {
            "image/png": "[encoded data removed]",
            "text/plain": [
              "<Figure size 432x288 with 1 Axes>"
            ]
          },
          "metadata": {},
          "output_type": "display_data"
        }
      ],
      "source": [
        "dftrain['class'].value_counts().plot(kind='barh')"
      ]
    },
    {
      "cell_type": "code",
      "execution_count": null,
      "metadata": {
        "colab": {
          "base_uri": "https://localhost:8080/",
          "height": 296
        },
        "id": "9Mp4_bsLCb7n",
        "outputId": "d1142376-82ce-48aa-8831-7e04c83ea4c8"
      },
      "outputs": [
        {
          "data": {
            "text/plain": [
              "Text(0.5, 0, '% survive')"
            ]
          },
          "execution_count": 42,
          "metadata": {},
          "output_type": "execute_result"
        },
        {
          "data": {
            "image/png": "[encoded data removed]",
            "text/plain": [
              "<Figure size 432x288 with 1 Axes>"
            ]
          },
          "metadata": {},
          "output_type": "display_data"
        }
      ],
      "source": [
        "pd.concat([dftrain, y_train], axis=1).groupby('sex').survived.mean().plot(kind='barh').set_xlabel('% survive')"
      ]
    },
    {
      "cell_type": "code",
      "execution_count": null,
      "metadata": {
        "colab": {
          "base_uri": "https://localhost:8080/"
        },
        "id": "fLP9bskkDp0O",
        "outputId": "a71bf56f-64fa-43da-b650-9404a1d7b785"
      },
      "outputs": [
        {
          "name": "stdout",
          "output_type": "stream",
          "text": [
            "[VocabularyListCategoricalColumn(key='sex', vocabulary_list=('male', 'female'), dtype=tf.string, default_value=-1, num_oov_buckets=0), VocabularyListCategoricalColumn(key='n_siblings_spouses', vocabulary_list=(1, 0, 3, 4, 2, 5, 8), dtype=tf.int64, default_value=-1, num_oov_buckets=0), VocabularyListCategoricalColumn(key='parch', vocabulary_list=(0, 1, 2, 5, 3, 4), dtype=tf.int64, default_value=-1, num_oov_buckets=0), VocabularyListCategoricalColumn(key='class', vocabulary_list=('Third', 'First', 'Second'), dtype=tf.string, default_value=-1, num_oov_buckets=0), VocabularyListCategoricalColumn(key='deck', vocabulary_list=('unknown', 'C', 'G', 'A', 'B', 'D', 'F', 'E'), dtype=tf.string, default_value=-1, num_oov_buckets=0), VocabularyListCategoricalColumn(key='embark_town', vocabulary_list=('Southampton', 'Cherbourg', 'Queenstown', 'unknown'), dtype=tf.string, default_value=-1, num_oov_buckets=0), VocabularyListCategoricalColumn(key='alone', vocabulary_list=('n', 'y'), dtype=tf.string, default_value=-1, num_oov_buckets=0), NumericColumn(key='age', shape=(1,), default_value=None, dtype=tf.float32, normalizer_fn=None), NumericColumn(key='fare', shape=(1,), default_value=None, dtype=tf.float32, normalizer_fn=None)]\n"
          ]
        }
      ],
      "source": [
        "CATEGORICAL_COLUMNS = ['sex', 'n_siblings_spouses', 'parch', 'class', 'deck',\n",
        "                       'embark_town', 'alone']\n",
        "NUMERIC_COLUMNS = ['age', 'fare']\n",
        "\n",
        "feature_columns = []\n",
        "for feature_name in CATEGORICAL_COLUMNS:\n",
        "  vocabulary = dftrain[feature_name].unique()\n",
        "  feature_columns.append(tf.feature_column.categorical_column_with_vocabulary_list(feature_name, vocabulary))\n",
        "\n",
        "for feature_name in NUMERIC_COLUMNS:\n",
        "  feature_columns.append(tf.feature_column.numeric_column(feature_name, dtype=tf.float32))\n",
        "\n",
        "print(feature_columns)"
      ]
    },
    {
      "cell_type": "code",
      "execution_count": null,
      "metadata": {
        "colab": {
          "base_uri": "https://localhost:8080/"
        },
        "id": "23iyInXAF-sc",
        "outputId": "c4c9964c-ed3b-48b3-adef-e0d6df677380"
      },
      "outputs": [
        {
          "data": {
            "text/plain": [
              "array(['Southampton', 'Cherbourg', 'Queenstown', 'unknown'], dtype=object)"
            ]
          },
          "execution_count": 55,
          "metadata": {},
          "output_type": "execute_result"
        }
      ],
      "source": [
        "dftrain[\"embark_town\"].unique()"
      ]
    },
    {
      "cell_type": "markdown",
      "metadata": {
        "id": "LpJf0iEwGj4B"
      },
      "source": [
        "train"
      ]
    },
    {
      "cell_type": "markdown",
      "metadata": {
        "id": "U307y-OfHBO6"
      },
      "source": [
        "input function"
      ]
    },
    {
      "cell_type": "code",
      "execution_count": null,
      "metadata": {
        "id": "woXmFypMHDYB"
      },
      "outputs": [],
      "source": [
        "def make_input_fn(data_df, label_df, num_epochs=10, shuffle=True, batch_size=32):\n",
        "  def input_function():\n",
        "    ds = tf.data.Dataset.from_tensor_slices((dict(data_df), label_df))\n",
        "    if shuffle:\n",
        "      ds = ds.shuffle(1000)\n",
        "    ds = ds.batch(batch_size).repeat(num_epochs)\n",
        "    return ds\n",
        "  return input_function\n",
        "\n",
        "train_input_fn = make_input_fn(dftrain, y_train)\n",
        "eval_input_fn = make_input_fn(dfeval, y_eval, num_epochs=1, shuffle=False)"
      ]
    },
    {
      "cell_type": "markdown",
      "metadata": {
        "id": "u_P8oLPCHtZh"
      },
      "source": [
        "model"
      ]
    },
    {
      "cell_type": "code",
      "execution_count": null,
      "metadata": {
        "colab": {
          "base_uri": "https://localhost:8080/"
        },
        "id": "_AfF1UlPHuqT",
        "outputId": "4a8c9ee6-1751-4760-a392-bf8733822b9a"
      },
      "outputs": [
        {
          "name": "stdout",
          "output_type": "stream",
          "text": [
            "0.7689394\n",
            "{'accuracy': 0.7689394, 'accuracy_baseline': 0.625, 'auc': 0.8326599, 'auc_precision_recall': 0.78064847, 'average_loss': 0.4945399, 'label/mean': 0.375, 'loss': 0.48509258, 'precision': 0.73170733, 'prediction/mean': 0.31025717, 'recall': 0.6060606, 'global_step': 200}\n"
          ]
        }
      ],
      "source": [
        "linear_est = tf.estimator.LinearClassifier(feature_columns=feature_columns)\n",
        "linear_est.train(train_input_fn)\n",
        "result = linear_est.evaluate(eval_input_fn)\n",
        "clear_output()\n",
        "print(result['accuracy'])\n",
        "print(result)"
      ]
    },
    {
      "cell_type": "code",
      "execution_count": null,
      "metadata": {
        "colab": {
          "background_save": true,
          "base_uri": "https://localhost:8080/"
        },
        "id": "TjCWp1cuIW5Q",
        "outputId": "ccd8f029-55de-4361-e459-d75a86edcd7e"
      },
      "outputs": [
        {
          "name": "stdout",
          "output_type": "stream",
          "text": [
            "INFO:tensorflow:Calling model_fn.\n"
          ]
        },
        {
          "name": "stderr",
          "output_type": "stream",
          "text": [
            "/usr/local/lib/python3.7/dist-packages/tensorflow_estimator/python/estimator/canned/linear.py:1478: UserWarning: `layer.add_variable` is deprecated and will be removed in a future version. Please use `layer.add_weight` method instead.\n",
            "  getter=tf.compat.v1.get_variable)\n"
          ]
        },
        {
          "name": "stdout",
          "output_type": "stream",
          "text": [
            "INFO:tensorflow:Done calling model_fn.\n",
            "INFO:tensorflow:Graph was finalized.\n",
            "INFO:tensorflow:Restoring parameters from /tmp/tmp7bia7uxa/model.ckpt-200\n",
            "INFO:tensorflow:Running local_init_op.\n",
            "INFO:tensorflow:Done running local_init_op.\n",
            "[{'logits': array([-2.7845473], dtype=float32), 'logistic': array([0.05816492], dtype=float32), 'probabilities': array([0.941835  , 0.05816494], dtype=float32), 'class_ids': array([0]), 'classes': array([b'0'], dtype=object), 'all_class_ids': array([0, 1], dtype=int32), 'all_classes': array([b'0', b'1'], dtype=object)}, {'logits': array([-1.4935099], dtype=float32), 'logistic': array([0.1833955], dtype=float32), 'probabilities': array([0.8166045, 0.1833955], dtype=float32), 'class_ids': array([0]), 'classes': array([b'0'], dtype=object), 'all_class_ids': array([0, 1], dtype=int32), 'all_classes': array([b'0', b'1'], dtype=object)}, {'logits': array([0.30669466], dtype=float32), 'logistic': array([0.57607824], dtype=float32), 'probabilities': array([0.42392176, 0.57607824], dtype=float32), 'class_ids': array([1]), 'classes': array([b'1'], dtype=object), 'all_class_ids': array([0, 1], dtype=int32), 'all_classes': array([b'0', b'1'], dtype=object)}, {'logits': array([0.0062646], dtype=float32), 'logistic': array([0.5015662], dtype=float32), 'probabilities': array([0.49843386, 0.5015661 ], dtype=float32), 'class_ids': array([1]), 'classes': array([b'1'], dtype=object), 'all_class_ids': array([0, 1], dtype=int32), 'all_classes': array([b'0', b'1'], dtype=object)}, {'logits': array([-1.3668097], dtype=float32), 'logistic': array([0.20313576], dtype=float32), 'probabilities': array([0.7968642 , 0.20313577], dtype=float32), 'class_ids': array([0]), 'classes': array([b'0'], dtype=object), 'all_class_ids': array([0, 1], dtype=int32), 'all_classes': array([b'0', b'1'], dtype=object)}, {'logits': array([0.81194997], dtype=float32), 'logistic': array([0.69252485], dtype=float32), 'probabilities': array([0.30747515, 0.6925249 ], dtype=float32), 'class_ids': array([1]), 'classes': array([b'1'], dtype=object), 'all_class_ids': array([0, 1], dtype=int32), 'all_classes': array([b'0', b'1'], dtype=object)}, {'logits': array([-0.10495755], dtype=float32), 'logistic': array([0.4737847], dtype=float32), 'probabilities': array([0.5262153 , 0.47378466], dtype=float32), 'class_ids': array([0]), 'classes': array([b'0'], dtype=object), 'all_class_ids': array([0, 1], dtype=int32), 'all_classes': array([b'0', b'1'], dtype=object)}, {'logits': array([-2.3415415], dtype=float32), 'logistic': array([0.08774045], dtype=float32), 'probabilities': array([0.9122596 , 0.08774045], dtype=float32), 'class_ids': array([0]), 'classes': array([b'0'], dtype=object), 'all_class_ids': array([0, 1], dtype=int32), 'all_classes': array([b'0', b'1'], dtype=object)}, {'logits': array([0.060743], dtype=float32), 'logistic': array([0.51518106], dtype=float32), 'probabilities': array([0.4848189 , 0.51518106], dtype=float32), 'class_ids': array([1]), 'classes': array([b'1'], dtype=object), 'all_class_ids': array([0, 1], dtype=int32), 'all_classes': array([b'0', b'1'], dtype=object)}, {'logits': array([0.68604064], dtype=float32), 'logistic': array([0.66508555], dtype=float32), 'probabilities': array([0.33491442, 0.66508555], dtype=float32), 'class_ids': array([1]), 'classes': array([b'1'], dtype=object), 'all_class_ids': array([0, 1], dtype=int32), 'all_classes': array([b'0', b'1'], dtype=object)}, {'logits': array([0.40182284], dtype=float32), 'logistic': array([0.5991255], dtype=float32), 'probabilities': array([0.40087444, 0.5991255 ], dtype=float32), 'class_ids': array([1]), 'classes': array([b'1'], dtype=object), 'all_class_ids': array([0, 1], dtype=int32), 'all_classes': array([b'0', b'1'], dtype=object)}, {'logits': array([-2.3404353], dtype=float32), 'logistic': array([0.08782902], dtype=float32), 'probabilities': array([0.912171  , 0.08782905], dtype=float32), 'class_ids': array([0]), 'classes': array([b'0'], dtype=object), 'all_class_ids': array([0, 1], dtype=int32), 'all_classes': array([b'0', b'1'], dtype=object)}, {'logits': array([1.3211663], dtype=float32), 'logistic': array([0.78937566], dtype=float32), 'probabilities': array([0.21062432, 0.7893757 ], dtype=float32), 'class_ids': array([1]), 'classes': array([b'1'], dtype=object), 'all_class_ids': array([0, 1], dtype=int32), 'all_classes': array([b'0', b'1'], dtype=object)}, {'logits': array([-1.0104457], dtype=float32), 'logistic': array([0.2668926], dtype=float32), 'probabilities': array([0.7331073, 0.2668926], dtype=float32), 'class_ids': array([0]), 'classes': array([b'0'], dtype=object), 'all_class_ids': array([0, 1], dtype=int32), 'all_classes': array([b'0', b'1'], dtype=object)}, {'logits': array([1.2824816], dtype=float32), 'logistic': array([0.78287184], dtype=float32), 'probabilities': array([0.2171281, 0.7828719], dtype=float32), 'class_ids': array([1]), 'classes': array([b'1'], dtype=object), 'all_class_ids': array([0, 1], dtype=int32), 'all_classes': array([b'0', b'1'], dtype=object)}, {'logits': array([-0.50887823], dtype=float32), 'logistic': array([0.37545654], dtype=float32), 'probabilities': array([0.6245435 , 0.37545654], dtype=float32), 'class_ids': array([0]), 'classes': array([b'0'], dtype=object), 'all_class_ids': array([0, 1], dtype=int32), 'all_classes': array([b'0', b'1'], dtype=object)}, {'logits': array([-1.9587829], dtype=float32), 'logistic': array([0.12359881], dtype=float32), 'probabilities': array([0.8764012 , 0.12359883], dtype=float32), 'class_ids': array([0]), 'classes': array([b'0'], dtype=object), 'all_class_ids': array([0, 1], dtype=int32), 'all_classes': array([b'0', b'1'], dtype=object)}, {'logits': array([1.2330471], dtype=float32), 'logistic': array([0.7743514], dtype=float32), 'probabilities': array([0.22564855, 0.7743514 ], dtype=float32), 'class_ids': array([1]), 'classes': array([b'1'], dtype=object), 'all_class_ids': array([0, 1], dtype=int32), 'all_classes': array([b'0', b'1'], dtype=object)}, {'logits': array([-0.97557116], dtype=float32), 'logistic': array([0.27377146], dtype=float32), 'probabilities': array([0.72622854, 0.27377144], dtype=float32), 'class_ids': array([0]), 'classes': array([b'0'], dtype=object), 'all_class_ids': array([0, 1], dtype=int32), 'all_classes': array([b'0', b'1'], dtype=object)}, {'logits': array([-2.594688], dtype=float32), 'logistic': array([0.06948105], dtype=float32), 'probabilities': array([0.930519  , 0.06948108], dtype=float32), 'class_ids': array([0]), 'classes': array([b'0'], dtype=object), 'all_class_ids': array([0, 1], dtype=int32), 'all_classes': array([b'0', b'1'], dtype=object)}, {'logits': array([-2.309032], dtype=float32), 'logistic': array([0.09037769], dtype=float32), 'probabilities': array([0.9096223, 0.0903777], dtype=float32), 'class_ids': array([0]), 'classes': array([b'0'], dtype=object), 'all_class_ids': array([0, 1], dtype=int32), 'all_classes': array([b'0', b'1'], dtype=object)}, {'logits': array([-2.7704496], dtype=float32), 'logistic': array([0.05894202], dtype=float32), 'probabilities': array([0.9410579 , 0.05894206], dtype=float32), 'class_ids': array([0]), 'classes': array([b'0'], dtype=object), 'all_class_ids': array([0, 1], dtype=int32), 'all_classes': array([b'0', b'1'], dtype=object)}, {'logits': array([0.3619918], dtype=float32), 'logistic': array([0.5895225], dtype=float32), 'probabilities': array([0.4104775, 0.5895225], dtype=float32), 'class_ids': array([1]), 'classes': array([b'1'], dtype=object), 'all_class_ids': array([0, 1], dtype=int32), 'all_classes': array([b'0', b'1'], dtype=object)}, {'logits': array([-2.8787951], dtype=float32), 'logistic': array([0.05321181], dtype=float32), 'probabilities': array([0.9467882, 0.0532118], dtype=float32), 'class_ids': array([0]), 'classes': array([b'0'], dtype=object), 'all_class_ids': array([0, 1], dtype=int32), 'all_classes': array([b'0', b'1'], dtype=object)}, {'logits': array([0.40881065], dtype=float32), 'logistic': array([0.60080266], dtype=float32), 'probabilities': array([0.39919734, 0.60080266], dtype=float32), 'class_ids': array([1]), 'classes': array([b'1'], dtype=object), 'all_class_ids': array([0, 1], dtype=int32), 'all_classes': array([b'0', b'1'], dtype=object)}, {'logits': array([-0.12701842], dtype=float32), 'logistic': array([0.46828803], dtype=float32), 'probabilities': array([0.531712, 0.468288], dtype=float32), 'class_ids': array([0]), 'classes': array([b'0'], dtype=object), 'all_class_ids': array([0, 1], dtype=int32), 'all_classes': array([b'0', b'1'], dtype=object)}, {'logits': array([-2.2244456], dtype=float32), 'logistic': array([0.09757662], dtype=float32), 'probabilities': array([0.9024233 , 0.09757664], dtype=float32), 'class_ids': array([0]), 'classes': array([b'0'], dtype=object), 'all_class_ids': array([0, 1], dtype=int32), 'all_classes': array([b'0', b'1'], dtype=object)}, {'logits': array([-2.0095832], dtype=float32), 'logistic': array([0.11820039], dtype=float32), 'probabilities': array([0.8817996 , 0.11820041], dtype=float32), 'class_ids': array([0]), 'classes': array([b'0'], dtype=object), 'all_class_ids': array([0, 1], dtype=int32), 'all_classes': array([b'0', b'1'], dtype=object)}, {'logits': array([-1.5015618], dtype=float32), 'logistic': array([0.18219271], dtype=float32), 'probabilities': array([0.8178073 , 0.18219271], dtype=float32), 'class_ids': array([0]), 'classes': array([b'0'], dtype=object), 'all_class_ids': array([0, 1], dtype=int32), 'all_classes': array([b'0', b'1'], dtype=object)}, {'logits': array([1.1765232], dtype=float32), 'logistic': array([0.7643221], dtype=float32), 'probabilities': array([0.23567793, 0.7643221 ], dtype=float32), 'class_ids': array([1]), 'classes': array([b'1'], dtype=object), 'all_class_ids': array([0, 1], dtype=int32), 'all_classes': array([b'0', b'1'], dtype=object)}, {'logits': array([-2.176065], dtype=float32), 'logistic': array([0.10192057], dtype=float32), 'probabilities': array([0.89807945, 0.10192055], dtype=float32), 'class_ids': array([0]), 'classes': array([b'0'], dtype=object), 'all_class_ids': array([0, 1], dtype=int32), 'all_classes': array([b'0', b'1'], dtype=object)}, {'logits': array([0.8095398], dtype=float32), 'logistic': array([0.6920114], dtype=float32), 'probabilities': array([0.30798858, 0.6920114 ], dtype=float32), 'class_ids': array([1]), 'classes': array([b'1'], dtype=object), 'all_class_ids': array([0, 1], dtype=int32), 'all_classes': array([b'0', b'1'], dtype=object)}, {'logits': array([-1.7329249], dtype=float32), 'logistic': array([0.15021384], dtype=float32), 'probabilities': array([0.84978616, 0.15021382], dtype=float32), 'class_ids': array([0]), 'classes': array([b'0'], dtype=object), 'all_class_ids': array([0, 1], dtype=int32), 'all_classes': array([b'0', b'1'], dtype=object)}, {'logits': array([0.25557664], dtype=float32), 'logistic': array([0.5635486], dtype=float32), 'probabilities': array([0.43645138, 0.5635486 ], dtype=float32), 'class_ids': array([1]), 'classes': array([b'1'], dtype=object), 'all_class_ids': array([0, 1], dtype=int32), 'all_classes': array([b'0', b'1'], dtype=object)}, {'logits': array([-1.5207078], dtype=float32), 'logistic': array([0.17935735], dtype=float32), 'probabilities': array([0.8206427 , 0.17935732], dtype=float32), 'class_ids': array([0]), 'classes': array([b'0'], dtype=object), 'all_class_ids': array([0, 1], dtype=int32), 'all_classes': array([b'0', b'1'], dtype=object)}, {'logits': array([-2.5302763], dtype=float32), 'logistic': array([0.07376274], dtype=float32), 'probabilities': array([0.9262372 , 0.07376277], dtype=float32), 'class_ids': array([0]), 'classes': array([b'0'], dtype=object), 'all_class_ids': array([0, 1], dtype=int32), 'all_classes': array([b'0', b'1'], dtype=object)}, {'logits': array([-2.131384], dtype=float32), 'logistic': array([0.10608366], dtype=float32), 'probabilities': array([0.8939163 , 0.10608368], dtype=float32), 'class_ids': array([0]), 'classes': array([b'0'], dtype=object), 'all_class_ids': array([0, 1], dtype=int32), 'all_classes': array([b'0', b'1'], dtype=object)}, {'logits': array([-2.2708607], dtype=float32), 'logistic': array([0.0935652], dtype=float32), 'probabilities': array([0.9064348 , 0.09356519], dtype=float32), 'class_ids': array([0]), 'classes': array([b'0'], dtype=object), 'all_class_ids': array([0, 1], dtype=int32), 'all_classes': array([b'0', b'1'], dtype=object)}, {'logits': array([1.2934303], dtype=float32), 'logistic': array([0.7847272], dtype=float32), 'probabilities': array([0.21527277, 0.7847273 ], dtype=float32), 'class_ids': array([1]), 'classes': array([b'1'], dtype=object), 'all_class_ids': array([0, 1], dtype=int32), 'all_classes': array([b'0', b'1'], dtype=object)}, {'logits': array([-2.6263313], dtype=float32), 'logistic': array([0.06746286], dtype=float32), 'probabilities': array([0.93253714, 0.06746289], dtype=float32), 'class_ids': array([0]), 'classes': array([b'0'], dtype=object), 'all_class_ids': array([0, 1], dtype=int32), 'all_classes': array([b'0', b'1'], dtype=object)}, {'logits': array([0.4820203], dtype=float32), 'logistic': array([0.6182248], dtype=float32), 'probabilities': array([0.3817752, 0.6182248], dtype=float32), 'class_ids': array([1]), 'classes': array([b'1'], dtype=object), 'all_class_ids': array([0, 1], dtype=int32), 'all_classes': array([b'0', b'1'], dtype=object)}, {'logits': array([-2.4232135], dtype=float32), 'logistic': array([0.08141956], dtype=float32), 'probabilities': array([0.9185805, 0.0814196], dtype=float32), 'class_ids': array([0]), 'classes': array([b'0'], dtype=object), 'all_class_ids': array([0, 1], dtype=int32), 'all_classes': array([b'0', b'1'], dtype=object)}, {'logits': array([-0.7931943], dtype=float32), 'logistic': array([0.3114832], dtype=float32), 'probabilities': array([0.6885168, 0.3114832], dtype=float32), 'class_ids': array([0]), 'classes': array([b'0'], dtype=object), 'all_class_ids': array([0, 1], dtype=int32), 'all_classes': array([b'0', b'1'], dtype=object)}, {'logits': array([-1.5470129], dtype=float32), 'logistic': array([0.17551813], dtype=float32), 'probabilities': array([0.8244819 , 0.17551811], dtype=float32), 'class_ids': array([0]), 'classes': array([b'0'], dtype=object), 'all_class_ids': array([0, 1], dtype=int32), 'all_classes': array([b'0', b'1'], dtype=object)}, {'logits': array([-2.0823143], dtype=float32), 'logistic': array([0.11082768], dtype=float32), 'probabilities': array([0.8891723 , 0.11082771], dtype=float32), 'class_ids': array([0]), 'classes': array([b'0'], dtype=object), 'all_class_ids': array([0, 1], dtype=int32), 'all_classes': array([b'0', b'1'], dtype=object)}, {'logits': array([1.1068954], dtype=float32), 'logistic': array([0.75154984], dtype=float32), 'probabilities': array([0.24845012, 0.75154984], dtype=float32), 'class_ids': array([1]), 'classes': array([b'1'], dtype=object), 'all_class_ids': array([0, 1], dtype=int32), 'all_classes': array([b'0', b'1'], dtype=object)}, {'logits': array([-2.3409884], dtype=float32), 'logistic': array([0.08778468], dtype=float32), 'probabilities': array([0.9122153 , 0.08778474], dtype=float32), 'class_ids': array([0]), 'classes': array([b'0'], dtype=object), 'all_class_ids': array([0, 1], dtype=int32), 'all_classes': array([b'0', b'1'], dtype=object)}, {'logits': array([-1.4852746], dtype=float32), 'logistic': array([0.18463206], dtype=float32), 'probabilities': array([0.81536794, 0.18463205], dtype=float32), 'class_ids': array([0]), 'classes': array([b'0'], dtype=object), 'all_class_ids': array([0, 1], dtype=int32), 'all_classes': array([b'0', b'1'], dtype=object)}, {'logits': array([-0.9071108], dtype=float32), 'logistic': array([0.28759146], dtype=float32), 'probabilities': array([0.71240854, 0.2875914 ], dtype=float32), 'class_ids': array([0]), 'classes': array([b'0'], dtype=object), 'all_class_ids': array([0, 1], dtype=int32), 'all_classes': array([b'0', b'1'], dtype=object)}, {'logits': array([-1.2291979], dtype=float32), 'logistic': array([0.22632185], dtype=float32), 'probabilities': array([0.7736781 , 0.22632185], dtype=float32), 'class_ids': array([0]), 'classes': array([b'0'], dtype=object), 'all_class_ids': array([0, 1], dtype=int32), 'all_classes': array([b'0', b'1'], dtype=object)}, {'logits': array([-2.586502], dtype=float32), 'logistic': array([0.07001215], dtype=float32), 'probabilities': array([0.9299878 , 0.07001219], dtype=float32), 'class_ids': array([0]), 'classes': array([b'0'], dtype=object), 'all_class_ids': array([0, 1], dtype=int32), 'all_classes': array([b'0', b'1'], dtype=object)}, {'logits': array([-1.5430653], dtype=float32), 'logistic': array([0.17609009], dtype=float32), 'probabilities': array([0.8239099 , 0.17609012], dtype=float32), 'class_ids': array([0]), 'classes': array([b'0'], dtype=object), 'all_class_ids': array([0, 1], dtype=int32), 'all_classes': array([b'0', b'1'], dtype=object)}, {'logits': array([-3.071087], dtype=float32), 'logistic': array([0.04431576], dtype=float32), 'probabilities': array([0.9556842 , 0.04431577], dtype=float32), 'class_ids': array([0]), 'classes': array([b'0'], dtype=object), 'all_class_ids': array([0, 1], dtype=int32), 'all_classes': array([b'0', b'1'], dtype=object)}, {'logits': array([-2.5686376], dtype=float32), 'logistic': array([0.07118431], dtype=float32), 'probabilities': array([0.92881566, 0.07118433], dtype=float32), 'class_ids': array([0]), 'classes': array([b'0'], dtype=object), 'all_class_ids': array([0, 1], dtype=int32), 'all_classes': array([b'0', b'1'], dtype=object)}, {'logits': array([-2.2466116], dtype=float32), 'logistic': array([0.09564215], dtype=float32), 'probabilities': array([0.90435785, 0.09564214], dtype=float32), 'class_ids': array([0]), 'classes': array([b'0'], dtype=object), 'all_class_ids': array([0, 1], dtype=int32), 'all_classes': array([b'0', b'1'], dtype=object)}, {'logits': array([-2.4320464], dtype=float32), 'logistic': array([0.08076137], dtype=float32), 'probabilities': array([0.91923857, 0.08076141], dtype=float32), 'class_ids': array([0]), 'classes': array([b'0'], dtype=object), 'all_class_ids': array([0, 1], dtype=int32), 'all_classes': array([b'0', b'1'], dtype=object)}, {'logits': array([-1.8911414], dtype=float32), 'logistic': array([0.13111436], dtype=float32), 'probabilities': array([0.86888564, 0.13111438], dtype=float32), 'class_ids': array([0]), 'classes': array([b'0'], dtype=object), 'all_class_ids': array([0, 1], dtype=int32), 'all_classes': array([b'0', b'1'], dtype=object)}, {'logits': array([2.0007215], dtype=float32), 'logistic': array([0.88087285], dtype=float32), 'probabilities': array([0.11912719, 0.8808728 ], dtype=float32), 'class_ids': array([1]), 'classes': array([b'1'], dtype=object), 'all_class_ids': array([0, 1], dtype=int32), 'all_classes': array([b'0', b'1'], dtype=object)}, {'logits': array([-1.7962115], dtype=float32), 'logistic': array([0.14231285], dtype=float32), 'probabilities': array([0.8576871 , 0.14231287], dtype=float32), 'class_ids': array([0]), 'classes': array([b'0'], dtype=object), 'all_class_ids': array([0, 1], dtype=int32), 'all_classes': array([b'0', b'1'], dtype=object)}, {'logits': array([-2.5623622], dtype=float32), 'logistic': array([0.07160035], dtype=float32), 'probabilities': array([0.9283997 , 0.07160036], dtype=float32), 'class_ids': array([0]), 'classes': array([b'0'], dtype=object), 'all_class_ids': array([0, 1], dtype=int32), 'all_classes': array([b'0', b'1'], dtype=object)}, {'logits': array([-2.0181713], dtype=float32), 'logistic': array([0.1173082], dtype=float32), 'probabilities': array([0.88269174, 0.11730821], dtype=float32), 'class_ids': array([0]), 'classes': array([b'0'], dtype=object), 'all_class_ids': array([0, 1], dtype=int32), 'all_classes': array([b'0', b'1'], dtype=object)}, {'logits': array([-0.22244605], dtype=float32), 'logistic': array([0.44461668], dtype=float32), 'probabilities': array([0.5553834, 0.4446167], dtype=float32), 'class_ids': array([0]), 'classes': array([b'0'], dtype=object), 'all_class_ids': array([0, 1], dtype=int32), 'all_classes': array([b'0', b'1'], dtype=object)}, {'logits': array([-1.6902192], dtype=float32), 'logistic': array([0.15574703], dtype=float32), 'probabilities': array([0.84425294, 0.15574701], dtype=float32), 'class_ids': array([0]), 'classes': array([b'0'], dtype=object), 'all_class_ids': array([0, 1], dtype=int32), 'all_classes': array([b'0', b'1'], dtype=object)}, {'logits': array([1.0419532], dtype=float32), 'logistic': array([0.7392267], dtype=float32), 'probabilities': array([0.2607733, 0.7392267], dtype=float32), 'class_ids': array([1]), 'classes': array([b'1'], dtype=object), 'all_class_ids': array([0, 1], dtype=int32), 'all_classes': array([b'0', b'1'], dtype=object)}, {'logits': array([-1.8484354], dtype=float32), 'logistic': array([0.13605675], dtype=float32), 'probabilities': array([0.86394334, 0.1360567 ], dtype=float32), 'class_ids': array([0]), 'classes': array([b'0'], dtype=object), 'all_class_ids': array([0, 1], dtype=int32), 'all_classes': array([b'0', b'1'], dtype=object)}, {'logits': array([0.23486546], dtype=float32), 'logistic': array([0.55844796], dtype=float32), 'probabilities': array([0.44155204, 0.5584479 ], dtype=float32), 'class_ids': array([1]), 'classes': array([b'1'], dtype=object), 'all_class_ids': array([0, 1], dtype=int32), 'all_classes': array([b'0', b'1'], dtype=object)}, {'logits': array([-1.1712811], dtype=float32), 'logistic': array([0.23662353], dtype=float32), 'probabilities': array([0.76337653, 0.2366235 ], dtype=float32), 'class_ids': array([0]), 'classes': array([b'0'], dtype=object), 'all_class_ids': array([0, 1], dtype=int32), 'all_classes': array([b'0', b'1'], dtype=object)}, {'logits': array([-2.6833057], dtype=float32), 'logistic': array([0.06396565], dtype=float32), 'probabilities': array([0.9360344 , 0.06396566], dtype=float32), 'class_ids': array([0]), 'classes': array([b'0'], dtype=object), 'all_class_ids': array([0, 1], dtype=int32), 'all_classes': array([b'0', b'1'], dtype=object)}, {'logits': array([-2.521642], dtype=float32), 'logistic': array([0.07435486], dtype=float32), 'probabilities': array([0.9256451 , 0.07435485], dtype=float32), 'class_ids': array([0]), 'classes': array([b'0'], dtype=object), 'all_class_ids': array([0, 1], dtype=int32), 'all_classes': array([b'0', b'1'], dtype=object)}, {'logits': array([0.21355823], dtype=float32), 'logistic': array([0.55318755], dtype=float32), 'probabilities': array([0.44681245, 0.55318755], dtype=float32), 'class_ids': array([1]), 'classes': array([b'1'], dtype=object), 'all_class_ids': array([0, 1], dtype=int32), 'all_classes': array([b'0', b'1'], dtype=object)}, {'logits': array([1.3658643], dtype=float32), 'logistic': array([0.79671115], dtype=float32), 'probabilities': array([0.20328887, 0.79671115], dtype=float32), 'class_ids': array([1]), 'classes': array([b'1'], dtype=object), 'all_class_ids': array([0, 1], dtype=int32), 'all_classes': array([b'0', b'1'], dtype=object)}, {'logits': array([-1.4257319], dtype=float32), 'logistic': array([0.1937646], dtype=float32), 'probabilities': array([0.80623543, 0.19376458], dtype=float32), 'class_ids': array([0]), 'classes': array([b'0'], dtype=object), 'all_class_ids': array([0, 1], dtype=int32), 'all_classes': array([b'0', b'1'], dtype=object)}, {'logits': array([-3.4707422], dtype=float32), 'logistic': array([0.03015625], dtype=float32), 'probabilities': array([0.96984375, 0.03015627], dtype=float32), 'class_ids': array([0]), 'classes': array([b'0'], dtype=object), 'all_class_ids': array([0, 1], dtype=int32), 'all_classes': array([b'0', b'1'], dtype=object)}, {'logits': array([-2.278255], dtype=float32), 'logistic': array([0.09293991], dtype=float32), 'probabilities': array([0.90706   , 0.09293996], dtype=float32), 'class_ids': array([0]), 'classes': array([b'0'], dtype=object), 'all_class_ids': array([0, 1], dtype=int32), 'all_classes': array([b'0', b'1'], dtype=object)}, {'logits': array([-2.1794577], dtype=float32), 'logistic': array([0.10161039], dtype=float32), 'probabilities': array([0.8983895 , 0.10161041], dtype=float32), 'class_ids': array([0]), 'classes': array([b'0'], dtype=object), 'all_class_ids': array([0, 1], dtype=int32), 'all_classes': array([b'0', b'1'], dtype=object)}, {'logits': array([-2.6327474], dtype=float32), 'logistic': array([0.06706035], dtype=float32), 'probabilities': array([0.93293965, 0.06706036], dtype=float32), 'class_ids': array([0]), 'classes': array([b'0'], dtype=object), 'all_class_ids': array([0, 1], dtype=int32), 'all_classes': array([b'0', b'1'], dtype=object)}, {'logits': array([-2.3725026], dtype=float32), 'logistic': array([0.08529371], dtype=float32), 'probabilities': array([0.91470635, 0.0852937 ], dtype=float32), 'class_ids': array([0]), 'classes': array([b'0'], dtype=object), 'all_class_ids': array([0, 1], dtype=int32), 'all_classes': array([b'0', b'1'], dtype=object)}, {'logits': array([-2.2708607], dtype=float32), 'logistic': array([0.0935652], dtype=float32), 'probabilities': array([0.9064348 , 0.09356519], dtype=float32), 'class_ids': array([0]), 'classes': array([b'0'], dtype=object), 'all_class_ids': array([0, 1], dtype=int32), 'all_classes': array([b'0', b'1'], dtype=object)}, {'logits': array([0.59168243], dtype=float32), 'logistic': array([0.6437511], dtype=float32), 'probabilities': array([0.35624892, 0.6437511 ], dtype=float32), 'class_ids': array([1]), 'classes': array([b'1'], dtype=object), 'all_class_ids': array([0, 1], dtype=int32), 'all_classes': array([b'0', b'1'], dtype=object)}, {'logits': array([2.262991], dtype=float32), 'logistic': array([0.9057653], dtype=float32), 'probabilities': array([0.09423476, 0.90576524], dtype=float32), 'class_ids': array([1]), 'classes': array([b'1'], dtype=object), 'all_class_ids': array([0, 1], dtype=int32), 'all_classes': array([b'0', b'1'], dtype=object)}, {'logits': array([0.26175192], dtype=float32), 'logistic': array([0.5650669], dtype=float32), 'probabilities': array([0.43493307, 0.5650669 ], dtype=float32), 'class_ids': array([1]), 'classes': array([b'1'], dtype=object), 'all_class_ids': array([0, 1], dtype=int32), 'all_classes': array([b'0', b'1'], dtype=object)}, {'logits': array([-1.0104457], dtype=float32), 'logistic': array([0.2668926], dtype=float32), 'probabilities': array([0.7331073, 0.2668926], dtype=float32), 'class_ids': array([0]), 'classes': array([b'0'], dtype=object), 'all_class_ids': array([0, 1], dtype=int32), 'all_classes': array([b'0', b'1'], dtype=object)}, {'logits': array([-1.872504], dtype=float32), 'logistic': array([0.13325223], dtype=float32), 'probabilities': array([0.86674774, 0.13325225], dtype=float32), 'class_ids': array([0]), 'classes': array([b'0'], dtype=object), 'all_class_ids': array([0, 1], dtype=int32), 'all_classes': array([b'0', b'1'], dtype=object)}, {'logits': array([1.3103213], dtype=float32), 'logistic': array([0.7875669], dtype=float32), 'probabilities': array([0.21243307, 0.7875669 ], dtype=float32), 'class_ids': array([1]), 'classes': array([b'1'], dtype=object), 'all_class_ids': array([0, 1], dtype=int32), 'all_classes': array([b'0', b'1'], dtype=object)}, {'logits': array([-2.7189078], dtype=float32), 'logistic': array([0.06186682], dtype=float32), 'probabilities': array([0.93813324, 0.06186683], dtype=float32), 'class_ids': array([0]), 'classes': array([b'0'], dtype=object), 'all_class_ids': array([0, 1], dtype=int32), 'all_classes': array([b'0', b'1'], dtype=object)}, {'logits': array([-1.3572671], dtype=float32), 'logistic': array([0.2046848], dtype=float32), 'probabilities': array([0.7953152 , 0.20468482], dtype=float32), 'class_ids': array([0]), 'classes': array([b'0'], dtype=object), 'all_class_ids': array([0, 1], dtype=int32), 'all_classes': array([b'0', b'1'], dtype=object)}, {'logits': array([0.20287171], dtype=float32), 'logistic': array([0.5505447], dtype=float32), 'probabilities': array([0.44945532, 0.5505447 ], dtype=float32), 'class_ids': array([1]), 'classes': array([b'1'], dtype=object), 'all_class_ids': array([0, 1], dtype=int32), 'all_classes': array([b'0', b'1'], dtype=object)}, {'logits': array([-2.6550055], dtype=float32), 'logistic': array([0.06568116], dtype=float32), 'probabilities': array([0.93431884, 0.06568117], dtype=float32), 'class_ids': array([0]), 'classes': array([b'0'], dtype=object), 'all_class_ids': array([0, 1], dtype=int32), 'all_classes': array([b'0', b'1'], dtype=object)}, {'logits': array([1.0752747], dtype=float32), 'logistic': array([0.7455987], dtype=float32), 'probabilities': array([0.2544013 , 0.74559873], dtype=float32), 'class_ids': array([1]), 'classes': array([b'1'], dtype=object), 'all_class_ids': array([0, 1], dtype=int32), 'all_classes': array([b'0', b'1'], dtype=object)}, {'logits': array([1.271667], dtype=float32), 'logistic': array([0.781028], dtype=float32), 'probabilities': array([0.21897203, 0.78102803], dtype=float32), 'class_ids': array([1]), 'classes': array([b'1'], dtype=object), 'all_class_ids': array([0, 1], dtype=int32), 'all_classes': array([b'0', b'1'], dtype=object)}, {'logits': array([2.4161203], dtype=float32), 'logistic': array([0.9180484], dtype=float32), 'probabilities': array([0.08195167, 0.9180483 ], dtype=float32), 'class_ids': array([1]), 'classes': array([b'1'], dtype=object), 'all_class_ids': array([0, 1], dtype=int32), 'all_classes': array([b'0', b'1'], dtype=object)}, {'logits': array([-2.0081565], dtype=float32), 'logistic': array([0.11834916], dtype=float32), 'probabilities': array([0.88165087, 0.1183492 ], dtype=float32), 'class_ids': array([0]), 'classes': array([b'0'], dtype=object), 'all_class_ids': array([0, 1], dtype=int32), 'all_classes': array([b'0', b'1'], dtype=object)}, {'logits': array([-2.5777338], dtype=float32), 'logistic': array([0.07058525], dtype=float32), 'probabilities': array([0.9294147 , 0.07058526], dtype=float32), 'class_ids': array([0]), 'classes': array([b'0'], dtype=object), 'all_class_ids': array([0, 1], dtype=int32), 'all_classes': array([b'0', b'1'], dtype=object)}, {'logits': array([1.7984565], dtype=float32), 'logistic': array([0.85796094], dtype=float32), 'probabilities': array([0.14203906, 0.857961  ], dtype=float32), 'class_ids': array([1]), 'classes': array([b'1'], dtype=object), 'all_class_ids': array([0, 1], dtype=int32), 'all_classes': array([b'0', b'1'], dtype=object)}, {'logits': array([-0.5060493], dtype=float32), 'logistic': array([0.37612012], dtype=float32), 'probabilities': array([0.6238799 , 0.37612015], dtype=float32), 'class_ids': array([0]), 'classes': array([b'0'], dtype=object), 'all_class_ids': array([0, 1], dtype=int32), 'all_classes': array([b'0', b'1'], dtype=object)}, {'logits': array([-0.8253579], dtype=float32), 'logistic': array([0.30462754], dtype=float32), 'probabilities': array([0.6953725, 0.3046275], dtype=float32), 'class_ids': array([0]), 'classes': array([b'0'], dtype=object), 'all_class_ids': array([0, 1], dtype=int32), 'all_classes': array([b'0', b'1'], dtype=object)}, {'logits': array([-1.6792471], dtype=float32), 'logistic': array([0.15719518], dtype=float32), 'probabilities': array([0.8428048 , 0.15719518], dtype=float32), 'class_ids': array([0]), 'classes': array([b'0'], dtype=object), 'all_class_ids': array([0, 1], dtype=int32), 'all_classes': array([b'0', b'1'], dtype=object)}, {'logits': array([-3.008761], dtype=float32), 'logistic': array([0.04703167], dtype=float32), 'probabilities': array([0.95296836, 0.04703165], dtype=float32), 'class_ids': array([0]), 'classes': array([b'0'], dtype=object), 'all_class_ids': array([0, 1], dtype=int32), 'all_classes': array([b'0', b'1'], dtype=object)}, {'logits': array([-2.4100275], dtype=float32), 'logistic': array([0.08241123], dtype=float32), 'probabilities': array([0.9175887 , 0.08241123], dtype=float32), 'class_ids': array([0]), 'classes': array([b'0'], dtype=object), 'all_class_ids': array([0, 1], dtype=int32), 'all_classes': array([b'0', b'1'], dtype=object)}, {'logits': array([-1.4831617], dtype=float32), 'logistic': array([0.18495032], dtype=float32), 'probabilities': array([0.8150497 , 0.18495035], dtype=float32), 'class_ids': array([0]), 'classes': array([b'0'], dtype=object), 'all_class_ids': array([0, 1], dtype=int32), 'all_classes': array([b'0', b'1'], dtype=object)}, {'logits': array([-2.6227913], dtype=float32), 'logistic': array([0.06768593], dtype=float32), 'probabilities': array([0.9323141 , 0.06768594], dtype=float32), 'class_ids': array([0]), 'classes': array([b'0'], dtype=object), 'all_class_ids': array([0, 1], dtype=int32), 'all_classes': array([b'0', b'1'], dtype=object)}, {'logits': array([-0.02237889], dtype=float32), 'logistic': array([0.4944055], dtype=float32), 'probabilities': array([0.5055945, 0.4944055], dtype=float32), 'class_ids': array([0]), 'classes': array([b'0'], dtype=object), 'all_class_ids': array([0, 1], dtype=int32), 'all_classes': array([b'0', b'1'], dtype=object)}, {'logits': array([-1.298102], dtype=float32), 'logistic': array([0.21448463], dtype=float32), 'probabilities': array([0.78551537, 0.2144846 ], dtype=float32), 'class_ids': array([0]), 'classes': array([b'0'], dtype=object), 'all_class_ids': array([0, 1], dtype=int32), 'all_classes': array([b'0', b'1'], dtype=object)}, {'logits': array([0.05325893], dtype=float32), 'logistic': array([0.51331156], dtype=float32), 'probabilities': array([0.48668844, 0.51331156], dtype=float32), 'class_ids': array([1]), 'classes': array([b'1'], dtype=object), 'all_class_ids': array([0, 1], dtype=int32), 'all_classes': array([b'0', b'1'], dtype=object)}, {'logits': array([0.33211842], dtype=float32), 'logistic': array([0.58227473], dtype=float32), 'probabilities': array([0.41772524, 0.5822747 ], dtype=float32), 'class_ids': array([1]), 'classes': array([b'1'], dtype=object), 'all_class_ids': array([0, 1], dtype=int32), 'all_classes': array([b'0', b'1'], dtype=object)}, {'logits': array([-1.7475185], dtype=float32), 'logistic': array([0.14836046], dtype=float32), 'probabilities': array([0.85163957, 0.14836046], dtype=float32), 'class_ids': array([0]), 'classes': array([b'0'], dtype=object), 'all_class_ids': array([0, 1], dtype=int32), 'all_classes': array([b'0', b'1'], dtype=object)}, {'logits': array([1.0973758], dtype=float32), 'logistic': array([0.7497681], dtype=float32), 'probabilities': array([0.25023192, 0.7497681 ], dtype=float32), 'class_ids': array([1]), 'classes': array([b'1'], dtype=object), 'all_class_ids': array([0, 1], dtype=int32), 'all_classes': array([b'0', b'1'], dtype=object)}, {'logits': array([0.8426647], dtype=float32), 'logistic': array([0.6990261], dtype=float32), 'probabilities': array([0.30097386, 0.69902617], dtype=float32), 'class_ids': array([1]), 'classes': array([b'1'], dtype=object), 'all_class_ids': array([0, 1], dtype=int32), 'all_classes': array([b'0', b'1'], dtype=object)}, {'logits': array([0.6207622], dtype=float32), 'logistic': array([0.6503919], dtype=float32), 'probabilities': array([0.34960812, 0.65039194], dtype=float32), 'class_ids': array([1]), 'classes': array([b'1'], dtype=object), 'all_class_ids': array([0, 1], dtype=int32), 'all_classes': array([b'0', b'1'], dtype=object)}, {'logits': array([-2.912871], dtype=float32), 'logistic': array([0.05152094], dtype=float32), 'probabilities': array([0.948479  , 0.05152096], dtype=float32), 'class_ids': array([0]), 'classes': array([b'0'], dtype=object), 'all_class_ids': array([0, 1], dtype=int32), 'all_classes': array([b'0', b'1'], dtype=object)}, {'logits': array([0.8754573], dtype=float32), 'logistic': array([0.70588], dtype=float32), 'probabilities': array([0.29412, 0.70588], dtype=float32), 'class_ids': array([1]), 'classes': array([b'1'], dtype=object), 'all_class_ids': array([0, 1], dtype=int32), 'all_classes': array([b'0', b'1'], dtype=object)}, {'logits': array([0.37716725], dtype=float32), 'logistic': array([0.5931897], dtype=float32), 'probabilities': array([0.40681034, 0.5931897 ], dtype=float32), 'class_ids': array([1]), 'classes': array([b'1'], dtype=object), 'all_class_ids': array([0, 1], dtype=int32), 'all_classes': array([b'0', b'1'], dtype=object)}, {'logits': array([0.3891547], dtype=float32), 'logistic': array([0.5960792], dtype=float32), 'probabilities': array([0.4039208, 0.5960792], dtype=float32), 'class_ids': array([1]), 'classes': array([b'1'], dtype=object), 'all_class_ids': array([0, 1], dtype=int32), 'all_classes': array([b'0', b'1'], dtype=object)}, {'logits': array([-3.2895126], dtype=float32), 'logistic': array([0.03593272], dtype=float32), 'probabilities': array([0.9640673 , 0.03593273], dtype=float32), 'class_ids': array([0]), 'classes': array([b'0'], dtype=object), 'all_class_ids': array([0, 1], dtype=int32), 'all_classes': array([b'0', b'1'], dtype=object)}, {'logits': array([1.103585], dtype=float32), 'logistic': array([0.7509312], dtype=float32), 'probabilities': array([0.2490688 , 0.75093126], dtype=float32), 'class_ids': array([1]), 'classes': array([b'1'], dtype=object), 'all_class_ids': array([0, 1], dtype=int32), 'all_classes': array([b'0', b'1'], dtype=object)}, {'logits': array([0.23086563], dtype=float32), 'logistic': array([0.5574614], dtype=float32), 'probabilities': array([0.44253862, 0.55746144], dtype=float32), 'class_ids': array([1]), 'classes': array([b'1'], dtype=object), 'all_class_ids': array([0, 1], dtype=int32), 'all_classes': array([b'0', b'1'], dtype=object)}, {'logits': array([-2.5939136], dtype=float32), 'logistic': array([0.06953111], dtype=float32), 'probabilities': array([0.9304688 , 0.06953117], dtype=float32), 'class_ids': array([0]), 'classes': array([b'0'], dtype=object), 'all_class_ids': array([0, 1], dtype=int32), 'all_classes': array([b'0', b'1'], dtype=object)}, {'logits': array([0.23807171], dtype=float32), 'logistic': array([0.5592384], dtype=float32), 'probabilities': array([0.4407616, 0.5592384], dtype=float32), 'class_ids': array([1]), 'classes': array([b'1'], dtype=object), 'all_class_ids': array([0, 1], dtype=int32), 'all_classes': array([b'0', b'1'], dtype=object)}, {'logits': array([-2.5595045], dtype=float32), 'logistic': array([0.07179052], dtype=float32), 'probabilities': array([0.9282094 , 0.07179055], dtype=float32), 'class_ids': array([0]), 'classes': array([b'0'], dtype=object), 'all_class_ids': array([0, 1], dtype=int32), 'all_classes': array([b'0', b'1'], dtype=object)}, {'logits': array([0.8411832], dtype=float32), 'logistic': array([0.6987143], dtype=float32), 'probabilities': array([0.30128565, 0.6987144 ], dtype=float32), 'class_ids': array([1]), 'classes': array([b'1'], dtype=object), 'all_class_ids': array([0, 1], dtype=int32), 'all_classes': array([b'0', b'1'], dtype=object)}, {'logits': array([-0.34671506], dtype=float32), 'logistic': array([0.41417924], dtype=float32), 'probabilities': array([0.5858208 , 0.41417927], dtype=float32), 'class_ids': array([0]), 'classes': array([b'0'], dtype=object), 'all_class_ids': array([0, 1], dtype=int32), 'all_classes': array([b'0', b'1'], dtype=object)}, {'logits': array([-2.4420981], dtype=float32), 'logistic': array([0.08001831], dtype=float32), 'probabilities': array([0.91998166, 0.08001832], dtype=float32), 'class_ids': array([0]), 'classes': array([b'0'], dtype=object), 'all_class_ids': array([0, 1], dtype=int32), 'all_classes': array([b'0', b'1'], dtype=object)}, {'logits': array([-1.0169222], dtype=float32), 'logistic': array([0.26562738], dtype=float32), 'probabilities': array([0.7343726 , 0.26562732], dtype=float32), 'class_ids': array([0]), 'classes': array([b'0'], dtype=object), 'all_class_ids': array([0, 1], dtype=int32), 'all_classes': array([b'0', b'1'], dtype=object)}, {'logits': array([1.256326], dtype=float32), 'logistic': array([0.77839303], dtype=float32), 'probabilities': array([0.221607, 0.778393], dtype=float32), 'class_ids': array([1]), 'classes': array([b'1'], dtype=object), 'all_class_ids': array([0, 1], dtype=int32), 'all_classes': array([b'0', b'1'], dtype=object)}, {'logits': array([-2.5909762], dtype=float32), 'logistic': array([0.0697214], dtype=float32), 'probabilities': array([0.93027854, 0.06972143], dtype=float32), 'class_ids': array([0]), 'classes': array([b'0'], dtype=object), 'all_class_ids': array([0, 1], dtype=int32), 'all_classes': array([b'0', b'1'], dtype=object)}, {'logits': array([-2.5630445], dtype=float32), 'logistic': array([0.07155502], dtype=float32), 'probabilities': array([0.928445  , 0.07155501], dtype=float32), 'class_ids': array([0]), 'classes': array([b'0'], dtype=object), 'all_class_ids': array([0, 1], dtype=int32), 'all_classes': array([b'0', b'1'], dtype=object)}, {'logits': array([0.18881872], dtype=float32), 'logistic': array([0.5470649], dtype=float32), 'probabilities': array([0.45293504, 0.5470649 ], dtype=float32), 'class_ids': array([1]), 'classes': array([b'1'], dtype=object), 'all_class_ids': array([0, 1], dtype=int32), 'all_classes': array([b'0', b'1'], dtype=object)}, {'logits': array([-2.2999406], dtype=float32), 'logistic': array([0.0911279], dtype=float32), 'probabilities': array([0.9088721 , 0.09112789], dtype=float32), 'class_ids': array([0]), 'classes': array([b'0'], dtype=object), 'all_class_ids': array([0, 1], dtype=int32), 'all_classes': array([b'0', b'1'], dtype=object)}, {'logits': array([-2.4607205], dtype=float32), 'logistic': array([0.0786581], dtype=float32), 'probabilities': array([0.9213419, 0.0786581], dtype=float32), 'class_ids': array([0]), 'classes': array([b'0'], dtype=object), 'all_class_ids': array([0, 1], dtype=int32), 'all_classes': array([b'0', b'1'], dtype=object)}, {'logits': array([-1.7703294], dtype=float32), 'logistic': array([0.14550135], dtype=float32), 'probabilities': array([0.8544986 , 0.14550138], dtype=float32), 'class_ids': array([0]), 'classes': array([b'0'], dtype=object), 'all_class_ids': array([0, 1], dtype=int32), 'all_classes': array([b'0', b'1'], dtype=object)}, {'logits': array([-2.8821878], dtype=float32), 'logistic': array([0.0530411], dtype=float32), 'probabilities': array([0.9469589 , 0.05304114], dtype=float32), 'class_ids': array([0]), 'classes': array([b'0'], dtype=object), 'all_class_ids': array([0, 1], dtype=int32), 'all_classes': array([b'0', b'1'], dtype=object)}, {'logits': array([0.32066873], dtype=float32), 'logistic': array([0.5794872], dtype=float32), 'probabilities': array([0.42051277, 0.5794872 ], dtype=float32), 'class_ids': array([1]), 'classes': array([b'1'], dtype=object), 'all_class_ids': array([0, 1], dtype=int32), 'all_classes': array([b'0', b'1'], dtype=object)}, {'logits': array([-2.3708432], dtype=float32), 'logistic': array([0.08542326], dtype=float32), 'probabilities': array([0.91457677, 0.08542325], dtype=float32), 'class_ids': array([0]), 'classes': array([b'0'], dtype=object), 'all_class_ids': array([0, 1], dtype=int32), 'all_classes': array([b'0', b'1'], dtype=object)}, {'logits': array([-3.2591968], dtype=float32), 'logistic': array([0.03699777], dtype=float32), 'probabilities': array([0.9630022 , 0.03699782], dtype=float32), 'class_ids': array([0]), 'classes': array([b'0'], dtype=object), 'all_class_ids': array([0, 1], dtype=int32), 'all_classes': array([b'0', b'1'], dtype=object)}, {'logits': array([-2.6263313], dtype=float32), 'logistic': array([0.06746286], dtype=float32), 'probabilities': array([0.93253714, 0.06746289], dtype=float32), 'class_ids': array([0]), 'classes': array([b'0'], dtype=object), 'all_class_ids': array([0, 1], dtype=int32), 'all_classes': array([b'0', b'1'], dtype=object)}, {'logits': array([-2.3380015], dtype=float32), 'logistic': array([0.0880242], dtype=float32), 'probabilities': array([0.9119758 , 0.08802421], dtype=float32), 'class_ids': array([0]), 'classes': array([b'0'], dtype=object), 'all_class_ids': array([0, 1], dtype=int32), 'all_classes': array([b'0', b'1'], dtype=object)}, {'logits': array([-2.317618], dtype=float32), 'logistic': array([0.08967429], dtype=float32), 'probabilities': array([0.91032565, 0.08967432], dtype=float32), 'class_ids': array([0]), 'classes': array([b'0'], dtype=object), 'all_class_ids': array([0, 1], dtype=int32), 'all_classes': array([b'0', b'1'], dtype=object)}, {'logits': array([-2.0468879], dtype=float32), 'logistic': array([0.11436722], dtype=float32), 'probabilities': array([0.88563275, 0.11436722], dtype=float32), 'class_ids': array([0]), 'classes': array([b'0'], dtype=object), 'all_class_ids': array([0, 1], dtype=int32), 'all_classes': array([b'0', b'1'], dtype=object)}, {'logits': array([1.3206296], dtype=float32), 'logistic': array([0.78928643], dtype=float32), 'probabilities': array([0.21071357, 0.78928643], dtype=float32), 'class_ids': array([1]), 'classes': array([b'1'], dtype=object), 'all_class_ids': array([0, 1], dtype=int32), 'all_classes': array([b'0', b'1'], dtype=object)}, {'logits': array([-2.594241], dtype=float32), 'logistic': array([0.06950992], dtype=float32), 'probabilities': array([0.9304901 , 0.06950999], dtype=float32), 'class_ids': array([0]), 'classes': array([b'0'], dtype=object), 'all_class_ids': array([0, 1], dtype=int32), 'all_classes': array([b'0', b'1'], dtype=object)}, {'logits': array([-2.4353466], dtype=float32), 'logistic': array([0.0805167], dtype=float32), 'probabilities': array([0.9194833 , 0.08051676], dtype=float32), 'class_ids': array([0]), 'classes': array([b'0'], dtype=object), 'all_class_ids': array([0, 1], dtype=int32), 'all_classes': array([b'0', b'1'], dtype=object)}, {'logits': array([0.40235737], dtype=float32), 'logistic': array([0.5992539], dtype=float32), 'probabilities': array([0.40074608, 0.5992539 ], dtype=float32), 'class_ids': array([1]), 'classes': array([b'1'], dtype=object), 'all_class_ids': array([0, 1], dtype=int32), 'all_classes': array([b'0', b'1'], dtype=object)}, {'logits': array([1.8088703], dtype=float32), 'logistic': array([0.8592253], dtype=float32), 'probabilities': array([0.14077471, 0.8592253 ], dtype=float32), 'class_ids': array([1]), 'classes': array([b'1'], dtype=object), 'all_class_ids': array([0, 1], dtype=int32), 'all_classes': array([b'0', b'1'], dtype=object)}, {'logits': array([-2.6270967], dtype=float32), 'logistic': array([0.06741473], dtype=float32), 'probabilities': array([0.93258524, 0.06741475], dtype=float32), 'class_ids': array([0]), 'classes': array([b'0'], dtype=object), 'all_class_ids': array([0, 1], dtype=int32), 'all_classes': array([b'0', b'1'], dtype=object)}, {'logits': array([-2.3315837], dtype=float32), 'logistic': array([0.08854076], dtype=float32), 'probabilities': array([0.91145927, 0.08854078], dtype=float32), 'class_ids': array([0]), 'classes': array([b'0'], dtype=object), 'all_class_ids': array([0, 1], dtype=int32), 'all_classes': array([b'0', b'1'], dtype=object)}, {'logits': array([-2.5630445], dtype=float32), 'logistic': array([0.07155502], dtype=float32), 'probabilities': array([0.928445  , 0.07155501], dtype=float32), 'class_ids': array([0]), 'classes': array([b'0'], dtype=object), 'all_class_ids': array([0, 1], dtype=int32), 'all_classes': array([b'0', b'1'], dtype=object)}, {'logits': array([-0.8107605], dtype=float32), 'logistic': array([0.30772847], dtype=float32), 'probabilities': array([0.69227153, 0.30772847], dtype=float32), 'class_ids': array([0]), 'classes': array([b'0'], dtype=object), 'all_class_ids': array([0, 1], dtype=int32), 'all_classes': array([b'0', b'1'], dtype=object)}, {'logits': array([-2.372511], dtype=float32), 'logistic': array([0.08529302], dtype=float32), 'probabilities': array([0.91470695, 0.08529303], dtype=float32), 'class_ids': array([0]), 'classes': array([b'0'], dtype=object), 'all_class_ids': array([0, 1], dtype=int32), 'all_classes': array([b'0', b'1'], dtype=object)}, {'logits': array([-2.0148802], dtype=float32), 'logistic': array([0.11764938], dtype=float32), 'probabilities': array([0.88235056, 0.11764943], dtype=float32), 'class_ids': array([0]), 'classes': array([b'0'], dtype=object), 'all_class_ids': array([0, 1], dtype=int32), 'all_classes': array([b'0', b'1'], dtype=object)}, {'logits': array([-2.9105678], dtype=float32), 'logistic': array([0.0516336], dtype=float32), 'probabilities': array([0.9483664 , 0.05163363], dtype=float32), 'class_ids': array([0]), 'classes': array([b'0'], dtype=object), 'all_class_ids': array([0, 1], dtype=int32), 'all_classes': array([b'0', b'1'], dtype=object)}, {'logits': array([-2.0148988], dtype=float32), 'logistic': array([0.11764753], dtype=float32), 'probabilities': array([0.8823525, 0.1176475], dtype=float32), 'class_ids': array([0]), 'classes': array([b'0'], dtype=object), 'all_class_ids': array([0, 1], dtype=int32), 'all_classes': array([b'0', b'1'], dtype=object)}, {'logits': array([-2.591586], dtype=float32), 'logistic': array([0.06968185], dtype=float32), 'probabilities': array([0.9303181 , 0.06968189], dtype=float32), 'class_ids': array([0]), 'classes': array([b'0'], dtype=object), 'all_class_ids': array([0, 1], dtype=int32), 'all_classes': array([b'0', b'1'], dtype=object)}, {'logits': array([-1.9871535], dtype=float32), 'logistic': array([0.12055832], dtype=float32), 'probabilities': array([0.8794417 , 0.12055834], dtype=float32), 'class_ids': array([0]), 'classes': array([b'0'], dtype=object), 'all_class_ids': array([0, 1], dtype=int32), 'all_classes': array([b'0', b'1'], dtype=object)}, {'logits': array([-2.6865034], dtype=float32), 'logistic': array([0.06377444], dtype=float32), 'probabilities': array([0.93622553, 0.06377447], dtype=float32), 'class_ids': array([0]), 'classes': array([b'0'], dtype=object), 'all_class_ids': array([0, 1], dtype=int32), 'all_classes': array([b'0', b'1'], dtype=object)}, {'logits': array([-1.1726317], dtype=float32), 'logistic': array([0.2363796], dtype=float32), 'probabilities': array([0.7636204 , 0.23637961], dtype=float32), 'class_ids': array([0]), 'classes': array([b'0'], dtype=object), 'all_class_ids': array([0, 1], dtype=int32), 'all_classes': array([b'0', b'1'], dtype=object)}, {'logits': array([-1.8250206], dtype=float32), 'logistic': array([0.13883254], dtype=float32), 'probabilities': array([0.86116743, 0.13883254], dtype=float32), 'class_ids': array([0]), 'classes': array([b'0'], dtype=object), 'all_class_ids': array([0, 1], dtype=int32), 'all_classes': array([b'0', b'1'], dtype=object)}, {'logits': array([-2.6256504], dtype=float32), 'logistic': array([0.06750572], dtype=float32), 'probabilities': array([0.9324942 , 0.06750573], dtype=float32), 'class_ids': array([0]), 'classes': array([b'0'], dtype=object), 'all_class_ids': array([0, 1], dtype=int32), 'all_classes': array([b'0', b'1'], dtype=object)}, {'logits': array([-1.8300673], dtype=float32), 'logistic': array([0.13823023], dtype=float32), 'probabilities': array([0.86176974, 0.13823026], dtype=float32), 'class_ids': array([0]), 'classes': array([b'0'], dtype=object), 'all_class_ids': array([0, 1], dtype=int32), 'all_classes': array([b'0', b'1'], dtype=object)}, {'logits': array([0.13871875], dtype=float32), 'logistic': array([0.53462416], dtype=float32), 'probabilities': array([0.4653758 , 0.53462416], dtype=float32), 'class_ids': array([1]), 'classes': array([b'1'], dtype=object), 'all_class_ids': array([0, 1], dtype=int32), 'all_classes': array([b'0', b'1'], dtype=object)}, {'logits': array([-2.0148988], dtype=float32), 'logistic': array([0.11764753], dtype=float32), 'probabilities': array([0.8823525, 0.1176475], dtype=float32), 'class_ids': array([0]), 'classes': array([b'0'], dtype=object), 'all_class_ids': array([0, 1], dtype=int32), 'all_classes': array([b'0', b'1'], dtype=object)}, {'logits': array([0.40182284], dtype=float32), 'logistic': array([0.5991255], dtype=float32), 'probabilities': array([0.40087444, 0.5991255 ], dtype=float32), 'class_ids': array([1]), 'classes': array([b'1'], dtype=object), 'all_class_ids': array([0, 1], dtype=int32), 'all_classes': array([b'0', b'1'], dtype=object)}, {'logits': array([-2.3067966], dtype=float32), 'logistic': array([0.09056163], dtype=float32), 'probabilities': array([0.90943843, 0.09056164], dtype=float32), 'class_ids': array([0]), 'classes': array([b'0'], dtype=object), 'all_class_ids': array([0, 1], dtype=int32), 'all_classes': array([b'0', b'1'], dtype=object)}, {'logits': array([1.6898365], dtype=float32), 'logistic': array([0.84420264], dtype=float32), 'probabilities': array([0.15579733, 0.84420264], dtype=float32), 'class_ids': array([1]), 'classes': array([b'1'], dtype=object), 'all_class_ids': array([0, 1], dtype=int32), 'all_classes': array([b'0', b'1'], dtype=object)}, {'logits': array([0.67967534], dtype=float32), 'logistic': array([0.66366625], dtype=float32), 'probabilities': array([0.33633375, 0.6636662 ], dtype=float32), 'class_ids': array([1]), 'classes': array([b'1'], dtype=object), 'all_class_ids': array([0, 1], dtype=int32), 'all_classes': array([b'0', b'1'], dtype=object)}, {'logits': array([-2.6890645], dtype=float32), 'logistic': array([0.0636217], dtype=float32), 'probabilities': array([0.93637824, 0.06362173], dtype=float32), 'class_ids': array([0]), 'classes': array([b'0'], dtype=object), 'all_class_ids': array([0, 1], dtype=int32), 'all_classes': array([b'0', b'1'], dtype=object)}, {'logits': array([1.2067051], dtype=float32), 'logistic': array([0.7697154], dtype=float32), 'probabilities': array([0.23028456, 0.7697154 ], dtype=float32), 'class_ids': array([1]), 'classes': array([b'1'], dtype=object), 'all_class_ids': array([0, 1], dtype=int32), 'all_classes': array([b'0', b'1'], dtype=object)}, {'logits': array([-2.7081056], dtype=float32), 'logistic': array([0.06249675], dtype=float32), 'probabilities': array([0.9375032 , 0.06249675], dtype=float32), 'class_ids': array([0]), 'classes': array([b'0'], dtype=object), 'all_class_ids': array([0, 1], dtype=int32), 'all_classes': array([b'0', b'1'], dtype=object)}, {'logits': array([-2.0214624], dtype=float32), 'logistic': array([0.11696786], dtype=float32), 'probabilities': array([0.8830322 , 0.11696786], dtype=float32), 'class_ids': array([0]), 'classes': array([b'0'], dtype=object), 'all_class_ids': array([0, 1], dtype=int32), 'all_classes': array([b'0', b'1'], dtype=object)}, {'logits': array([1.818262], dtype=float32), 'logistic': array([0.86035746], dtype=float32), 'probabilities': array([0.13964255, 0.8603574 ], dtype=float32), 'class_ids': array([1]), 'classes': array([b'1'], dtype=object), 'all_class_ids': array([0, 1], dtype=int32), 'all_classes': array([b'0', b'1'], dtype=object)}, {'logits': array([-2.373185], dtype=float32), 'logistic': array([0.08524045], dtype=float32), 'probabilities': array([0.9147595 , 0.08524047], dtype=float32), 'class_ids': array([0]), 'classes': array([b'0'], dtype=object), 'all_class_ids': array([0, 1], dtype=int32), 'all_classes': array([b'0', b'1'], dtype=object)}, {'logits': array([0.6908035], dtype=float32), 'logistic': array([0.6661456], dtype=float32), 'probabilities': array([0.33385432, 0.6661456 ], dtype=float32), 'class_ids': array([1]), 'classes': array([b'1'], dtype=object), 'all_class_ids': array([0, 1], dtype=int32), 'all_classes': array([b'0', b'1'], dtype=object)}, {'logits': array([-2.5623622], dtype=float32), 'logistic': array([0.07160035], dtype=float32), 'probabilities': array([0.9283997 , 0.07160036], dtype=float32), 'class_ids': array([0]), 'classes': array([b'0'], dtype=object), 'all_class_ids': array([0, 1], dtype=int32), 'all_classes': array([b'0', b'1'], dtype=object)}, {'logits': array([-1.6199152], dtype=float32), 'logistic': array([0.16521657], dtype=float32), 'probabilities': array([0.8347835 , 0.16521658], dtype=float32), 'class_ids': array([0]), 'classes': array([b'0'], dtype=object), 'all_class_ids': array([0, 1], dtype=int32), 'all_classes': array([b'0', b'1'], dtype=object)}, {'logits': array([-3.069337], dtype=float32), 'logistic': array([0.0443899], dtype=float32), 'probabilities': array([0.9556101 , 0.04438995], dtype=float32), 'class_ids': array([0]), 'classes': array([b'0'], dtype=object), 'all_class_ids': array([0, 1], dtype=int32), 'all_classes': array([b'0', b'1'], dtype=object)}, {'logits': array([-2.2999406], dtype=float32), 'logistic': array([0.0911279], dtype=float32), 'probabilities': array([0.9088721 , 0.09112789], dtype=float32), 'class_ids': array([0]), 'classes': array([b'0'], dtype=object), 'all_class_ids': array([0, 1], dtype=int32), 'all_classes': array([b'0', b'1'], dtype=object)}, {'logits': array([0.19118384], dtype=float32), 'logistic': array([0.5476509], dtype=float32), 'probabilities': array([0.4523491, 0.5476509], dtype=float32), 'class_ids': array([1]), 'classes': array([b'1'], dtype=object), 'all_class_ids': array([0, 1], dtype=int32), 'all_classes': array([b'0', b'1'], dtype=object)}, {'logits': array([1.6997225], dtype=float32), 'logistic': array([0.84549844], dtype=float32), 'probabilities': array([0.1545015 , 0.84549844], dtype=float32), 'class_ids': array([1]), 'classes': array([b'1'], dtype=object), 'all_class_ids': array([0, 1], dtype=int32), 'all_classes': array([b'0', b'1'], dtype=object)}, {'logits': array([-1.9904263], dtype=float32), 'logistic': array([0.12021175], dtype=float32), 'probabilities': array([0.8797882 , 0.12021177], dtype=float32), 'class_ids': array([0]), 'classes': array([b'0'], dtype=object), 'all_class_ids': array([0, 1], dtype=int32), 'all_classes': array([b'0', b'1'], dtype=object)}, {'logits': array([-1.4321492], dtype=float32), 'logistic': array([0.19276404], dtype=float32), 'probabilities': array([0.80723596, 0.19276404], dtype=float32), 'class_ids': array([0]), 'classes': array([b'0'], dtype=object), 'all_class_ids': array([0, 1], dtype=int32), 'all_classes': array([b'0', b'1'], dtype=object)}, {'logits': array([-2.340675], dtype=float32), 'logistic': array([0.08780983], dtype=float32), 'probabilities': array([0.9121902 , 0.08780982], dtype=float32), 'class_ids': array([0]), 'classes': array([b'0'], dtype=object), 'all_class_ids': array([0, 1], dtype=int32), 'all_classes': array([b'0', b'1'], dtype=object)}, {'logits': array([-2.377163], dtype=float32), 'logistic': array([0.08493078], dtype=float32), 'probabilities': array([0.9150692, 0.0849308], dtype=float32), 'class_ids': array([0]), 'classes': array([b'0'], dtype=object), 'all_class_ids': array([0, 1], dtype=int32), 'all_classes': array([b'0', b'1'], dtype=object)}, {'logits': array([-1.4322941], dtype=float32), 'logistic': array([0.19274148], dtype=float32), 'probabilities': array([0.8072585 , 0.19274148], dtype=float32), 'class_ids': array([0]), 'classes': array([b'0'], dtype=object), 'all_class_ids': array([0, 1], dtype=int32), 'all_classes': array([b'0', b'1'], dtype=object)}, {'logits': array([-1.8539646], dtype=float32), 'logistic': array([0.13540807], dtype=float32), 'probabilities': array([0.8645919 , 0.13540807], dtype=float32), 'class_ids': array([0]), 'classes': array([b'0'], dtype=object), 'all_class_ids': array([0, 1], dtype=int32), 'all_classes': array([b'0', b'1'], dtype=object)}, {'logits': array([2.1763482], dtype=float32), 'logistic': array([0.8981054], dtype=float32), 'probabilities': array([0.10189462, 0.8981054 ], dtype=float32), 'class_ids': array([1]), 'classes': array([b'1'], dtype=object), 'all_class_ids': array([0, 1], dtype=int32), 'all_classes': array([b'0', b'1'], dtype=object)}, {'logits': array([-0.2880189], dtype=float32), 'logistic': array([0.42848894], dtype=float32), 'probabilities': array([0.5715111 , 0.42848894], dtype=float32), 'class_ids': array([0]), 'classes': array([b'0'], dtype=object), 'all_class_ids': array([0, 1], dtype=int32), 'all_classes': array([b'0', b'1'], dtype=object)}, {'logits': array([-2.2775726], dtype=float32), 'logistic': array([0.09299746], dtype=float32), 'probabilities': array([0.90700257, 0.09299751], dtype=float32), 'class_ids': array([0]), 'classes': array([b'0'], dtype=object), 'all_class_ids': array([0, 1], dtype=int32), 'all_classes': array([b'0', b'1'], dtype=object)}, {'logits': array([-1.5065333], dtype=float32), 'logistic': array([0.18145314], dtype=float32), 'probabilities': array([0.81854683, 0.18145312], dtype=float32), 'class_ids': array([0]), 'classes': array([b'0'], dtype=object), 'all_class_ids': array([0, 1], dtype=int32), 'all_classes': array([b'0', b'1'], dtype=object)}, {'logits': array([0.40147236], dtype=float32), 'logistic': array([0.59904134], dtype=float32), 'probabilities': array([0.40095863, 0.59904134], dtype=float32), 'class_ids': array([1]), 'classes': array([b'1'], dtype=object), 'all_class_ids': array([0, 1], dtype=int32), 'all_classes': array([b'0', b'1'], dtype=object)}, {'logits': array([0.7226807], dtype=float32), 'logistic': array([0.67319703], dtype=float32), 'probabilities': array([0.32680294, 0.67319703], dtype=float32), 'class_ids': array([1]), 'classes': array([b'1'], dtype=object), 'all_class_ids': array([0, 1], dtype=int32), 'all_classes': array([b'0', b'1'], dtype=object)}, {'logits': array([-1.6696384], dtype=float32), 'logistic': array([0.15847239], dtype=float32), 'probabilities': array([0.8415276 , 0.15847239], dtype=float32), 'class_ids': array([0]), 'classes': array([b'0'], dtype=object), 'all_class_ids': array([0, 1], dtype=int32), 'all_classes': array([b'0', b'1'], dtype=object)}, {'logits': array([-2.0936086], dtype=float32), 'logistic': array([0.10971957], dtype=float32), 'probabilities': array([0.89028037, 0.10971958], dtype=float32), 'class_ids': array([0]), 'classes': array([b'0'], dtype=object), 'all_class_ids': array([0, 1], dtype=int32), 'all_classes': array([b'0', b'1'], dtype=object)}, {'logits': array([-2.3945997], dtype=float32), 'logistic': array([0.08358541], dtype=float32), 'probabilities': array([0.91641456, 0.08358543], dtype=float32), 'class_ids': array([0]), 'classes': array([b'0'], dtype=object), 'all_class_ids': array([0, 1], dtype=int32), 'all_classes': array([b'0', b'1'], dtype=object)}, {'logits': array([-2.5725217], dtype=float32), 'logistic': array([0.07092792], dtype=float32), 'probabilities': array([0.929072  , 0.07092796], dtype=float32), 'class_ids': array([0]), 'classes': array([b'0'], dtype=object), 'all_class_ids': array([0, 1], dtype=int32), 'all_classes': array([b'0', b'1'], dtype=object)}, {'logits': array([1.1681759], dtype=float32), 'logistic': array([0.7628151], dtype=float32), 'probabilities': array([0.23718487, 0.7628152 ], dtype=float32), 'class_ids': array([1]), 'classes': array([b'1'], dtype=object), 'all_class_ids': array([0, 1], dtype=int32), 'all_classes': array([b'0', b'1'], dtype=object)}, {'logits': array([-3.1458101], dtype=float32), 'logistic': array([0.04125661], dtype=float32), 'probabilities': array([0.95874333, 0.04125669], dtype=float32), 'class_ids': array([0]), 'classes': array([b'0'], dtype=object), 'all_class_ids': array([0, 1], dtype=int32), 'all_classes': array([b'0', b'1'], dtype=object)}, {'logits': array([-2.452293], dtype=float32), 'logistic': array([0.07927102], dtype=float32), 'probabilities': array([0.920729  , 0.07927104], dtype=float32), 'class_ids': array([0]), 'classes': array([b'0'], dtype=object), 'all_class_ids': array([0, 1], dtype=int32), 'all_classes': array([b'0', b'1'], dtype=object)}, {'logits': array([-0.60407233], dtype=float32), 'logistic': array([0.35341257], dtype=float32), 'probabilities': array([0.64658743, 0.35341254], dtype=float32), 'class_ids': array([0]), 'classes': array([b'0'], dtype=object), 'all_class_ids': array([0, 1], dtype=int32), 'all_classes': array([b'0', b'1'], dtype=object)}, {'logits': array([0.40010813], dtype=float32), 'logistic': array([0.59871364], dtype=float32), 'probabilities': array([0.40128636, 0.59871364], dtype=float32), 'class_ids': array([1]), 'classes': array([b'1'], dtype=object), 'all_class_ids': array([0, 1], dtype=int32), 'all_classes': array([b'0', b'1'], dtype=object)}, {'logits': array([-1.5301436], dtype=float32), 'logistic': array([0.17797267], dtype=float32), 'probabilities': array([0.8220273 , 0.17797267], dtype=float32), 'class_ids': array([0]), 'classes': array([b'0'], dtype=object), 'all_class_ids': array([0, 1], dtype=int32), 'all_classes': array([b'0', b'1'], dtype=object)}, {'logits': array([-2.9030066], dtype=float32), 'logistic': array([0.05200514], dtype=float32), 'probabilities': array([0.9479948 , 0.05200514], dtype=float32), 'class_ids': array([0]), 'classes': array([b'0'], dtype=object), 'all_class_ids': array([0, 1], dtype=int32), 'all_classes': array([b'0', b'1'], dtype=object)}, {'logits': array([-1.9199505], dtype=float32), 'logistic': array([0.12786707], dtype=float32), 'probabilities': array([0.87213296, 0.1278671 ], dtype=float32), 'class_ids': array([0]), 'classes': array([b'0'], dtype=object), 'all_class_ids': array([0, 1], dtype=int32), 'all_classes': array([b'0', b'1'], dtype=object)}, {'logits': array([-2.5895061], dtype=float32), 'logistic': array([0.06981683], dtype=float32), 'probabilities': array([0.9301831 , 0.06981684], dtype=float32), 'class_ids': array([0]), 'classes': array([b'0'], dtype=object), 'all_class_ids': array([0, 1], dtype=int32), 'all_classes': array([b'0', b'1'], dtype=object)}, {'logits': array([-3.069337], dtype=float32), 'logistic': array([0.0443899], dtype=float32), 'probabilities': array([0.9556101 , 0.04438995], dtype=float32), 'class_ids': array([0]), 'classes': array([b'0'], dtype=object), 'all_class_ids': array([0, 1], dtype=int32), 'all_classes': array([b'0', b'1'], dtype=object)}, {'logits': array([-2.5751266], dtype=float32), 'logistic': array([0.07075647], dtype=float32), 'probabilities': array([0.9292435 , 0.07075649], dtype=float32), 'class_ids': array([0]), 'classes': array([b'0'], dtype=object), 'all_class_ids': array([0, 1], dtype=int32), 'all_classes': array([b'0', b'1'], dtype=object)}, {'logits': array([1.2524195], dtype=float32), 'logistic': array([0.7777184], dtype=float32), 'probabilities': array([0.2222816, 0.7777184], dtype=float32), 'class_ids': array([1]), 'classes': array([b'1'], dtype=object), 'all_class_ids': array([0, 1], dtype=int32), 'all_classes': array([b'0', b'1'], dtype=object)}, {'logits': array([0.90785754], dtype=float32), 'logistic': array([0.71256155], dtype=float32), 'probabilities': array([0.28743845, 0.71256155], dtype=float32), 'class_ids': array([1]), 'classes': array([b'1'], dtype=object), 'all_class_ids': array([0, 1], dtype=int32), 'all_classes': array([b'0', b'1'], dtype=object)}, {'logits': array([-2.4740915], dtype=float32), 'logistic': array([0.07769454], dtype=float32), 'probabilities': array([0.92230546, 0.07769454], dtype=float32), 'class_ids': array([0]), 'classes': array([b'0'], dtype=object), 'all_class_ids': array([0, 1], dtype=int32), 'all_classes': array([b'0', b'1'], dtype=object)}, {'logits': array([0.33376005], dtype=float32), 'logistic': array([0.58267397], dtype=float32), 'probabilities': array([0.41732603, 0.58267397], dtype=float32), 'class_ids': array([1]), 'classes': array([b'1'], dtype=object), 'all_class_ids': array([0, 1], dtype=int32), 'all_classes': array([b'0', b'1'], dtype=object)}, {'logits': array([-1.0006204], dtype=float32), 'logistic': array([0.26881948], dtype=float32), 'probabilities': array([0.73118055, 0.26881948], dtype=float32), 'class_ids': array([0]), 'classes': array([b'0'], dtype=object), 'all_class_ids': array([0, 1], dtype=int32), 'all_classes': array([b'0', b'1'], dtype=object)}, {'logits': array([-2.5872936], dtype=float32), 'logistic': array([0.06996068], dtype=float32), 'probabilities': array([0.93003935, 0.06996068], dtype=float32), 'class_ids': array([0]), 'classes': array([b'0'], dtype=object), 'all_class_ids': array([0, 1], dtype=int32), 'all_classes': array([b'0', b'1'], dtype=object)}, {'logits': array([-2.185762], dtype=float32), 'logistic': array([0.1010364], dtype=float32), 'probabilities': array([0.89896363, 0.10103638], dtype=float32), 'class_ids': array([0]), 'classes': array([b'0'], dtype=object), 'all_class_ids': array([0, 1], dtype=int32), 'all_classes': array([b'0', b'1'], dtype=object)}, {'logits': array([-2.0177145], dtype=float32), 'logistic': array([0.11735547], dtype=float32), 'probabilities': array([0.8826445 , 0.11735552], dtype=float32), 'class_ids': array([0]), 'classes': array([b'0'], dtype=object), 'all_class_ids': array([0, 1], dtype=int32), 'all_classes': array([b'0', b'1'], dtype=object)}, {'logits': array([-2.3126087], dtype=float32), 'logistic': array([0.09008408], dtype=float32), 'probabilities': array([0.909916  , 0.09008409], dtype=float32), 'class_ids': array([0]), 'classes': array([b'0'], dtype=object), 'all_class_ids': array([0, 1], dtype=int32), 'all_classes': array([b'0', b'1'], dtype=object)}, {'logits': array([0.40187815], dtype=float32), 'logistic': array([0.5991388], dtype=float32), 'probabilities': array([0.40086114, 0.5991388 ], dtype=float32), 'class_ids': array([1]), 'classes': array([b'1'], dtype=object), 'all_class_ids': array([0, 1], dtype=int32), 'all_classes': array([b'0', b'1'], dtype=object)}, {'logits': array([-2.6144876], dtype=float32), 'logistic': array([0.06821179], dtype=float32), 'probabilities': array([0.9317882 , 0.06821182], dtype=float32), 'class_ids': array([0]), 'classes': array([b'0'], dtype=object), 'all_class_ids': array([0, 1], dtype=int32), 'all_classes': array([b'0', b'1'], dtype=object)}, {'logits': array([-0.63634634], dtype=float32), 'logistic': array([0.34607294], dtype=float32), 'probabilities': array([0.6539271, 0.3460729], dtype=float32), 'class_ids': array([0]), 'classes': array([b'0'], dtype=object), 'all_class_ids': array([0, 1], dtype=int32), 'all_classes': array([b'0', b'1'], dtype=object)}, {'logits': array([-0.9141401], dtype=float32), 'logistic': array([0.2861534], dtype=float32), 'probabilities': array([0.7138466, 0.2861534], dtype=float32), 'class_ids': array([0]), 'classes': array([b'0'], dtype=object), 'all_class_ids': array([0, 1], dtype=int32), 'all_classes': array([b'0', b'1'], dtype=object)}, {'logits': array([-2.6574214], dtype=float32), 'logistic': array([0.06553304], dtype=float32), 'probabilities': array([0.93446696, 0.06553307], dtype=float32), 'class_ids': array([0]), 'classes': array([b'0'], dtype=object), 'all_class_ids': array([0, 1], dtype=int32), 'all_classes': array([b'0', b'1'], dtype=object)}, {'logits': array([-2.1098585], dtype=float32), 'logistic': array([0.10814226], dtype=float32), 'probabilities': array([0.8918577 , 0.10814231], dtype=float32), 'class_ids': array([0]), 'classes': array([b'0'], dtype=object), 'all_class_ids': array([0, 1], dtype=int32), 'all_classes': array([b'0', b'1'], dtype=object)}, {'logits': array([0.81062186], dtype=float32), 'logistic': array([0.692242], dtype=float32), 'probabilities': array([0.307758, 0.692242], dtype=float32), 'class_ids': array([1]), 'classes': array([b'1'], dtype=object), 'all_class_ids': array([0, 1], dtype=int32), 'all_classes': array([b'0', b'1'], dtype=object)}, {'logits': array([-0.70676875], dtype=float32), 'logistic': array([0.3303132], dtype=float32), 'probabilities': array([0.6696868, 0.3303132], dtype=float32), 'class_ids': array([0]), 'classes': array([b'0'], dtype=object), 'all_class_ids': array([0, 1], dtype=int32), 'all_classes': array([b'0', b'1'], dtype=object)}, {'logits': array([-2.3948703], dtype=float32), 'logistic': array([0.08356467], dtype=float32), 'probabilities': array([0.9164353, 0.0835647], dtype=float32), 'class_ids': array([0]), 'classes': array([b'0'], dtype=object), 'all_class_ids': array([0, 1], dtype=int32), 'all_classes': array([b'0', b'1'], dtype=object)}, {'logits': array([-0.8422296], dtype=float32), 'logistic': array([0.30106544], dtype=float32), 'probabilities': array([0.6989346 , 0.30106542], dtype=float32), 'class_ids': array([0]), 'classes': array([b'0'], dtype=object), 'all_class_ids': array([0, 1], dtype=int32), 'all_classes': array([b'0', b'1'], dtype=object)}, {'logits': array([-1.5047845], dtype=float32), 'logistic': array([0.18171301], dtype=float32), 'probabilities': array([0.81828696, 0.18171301], dtype=float32), 'class_ids': array([0]), 'classes': array([b'0'], dtype=object), 'all_class_ids': array([0, 1], dtype=int32), 'all_classes': array([b'0', b'1'], dtype=object)}, {'logits': array([1.2709345], dtype=float32), 'logistic': array([0.7809026], dtype=float32), 'probabilities': array([0.21909733, 0.7809027 ], dtype=float32), 'class_ids': array([1]), 'classes': array([b'1'], dtype=object), 'all_class_ids': array([0, 1], dtype=int32), 'all_classes': array([b'0', b'1'], dtype=object)}, {'logits': array([0.8124976], dtype=float32), 'logistic': array([0.6926415], dtype=float32), 'probabilities': array([0.30735853, 0.6926415 ], dtype=float32), 'class_ids': array([1]), 'classes': array([b'1'], dtype=object), 'all_class_ids': array([0, 1], dtype=int32), 'all_classes': array([b'0', b'1'], dtype=object)}, {'logits': array([-2.1821084], dtype=float32), 'logistic': array([0.1013687], dtype=float32), 'probabilities': array([0.8986313, 0.1013687], dtype=float32), 'class_ids': array([0]), 'classes': array([b'0'], dtype=object), 'all_class_ids': array([0, 1], dtype=int32), 'all_classes': array([b'0', b'1'], dtype=object)}, {'logits': array([0.3227146], dtype=float32), 'logistic': array([0.5799857], dtype=float32), 'probabilities': array([0.42001432, 0.5799857 ], dtype=float32), 'class_ids': array([1]), 'classes': array([b'1'], dtype=object), 'all_class_ids': array([0, 1], dtype=int32), 'all_classes': array([b'0', b'1'], dtype=object)}, {'logits': array([-2.4428878], dtype=float32), 'logistic': array([0.07996023], dtype=float32), 'probabilities': array([0.9200398, 0.0799602], dtype=float32), 'class_ids': array([0]), 'classes': array([b'0'], dtype=object), 'all_class_ids': array([0, 1], dtype=int32), 'all_classes': array([b'0', b'1'], dtype=object)}, {'logits': array([-2.0148802], dtype=float32), 'logistic': array([0.11764938], dtype=float32), 'probabilities': array([0.88235056, 0.11764943], dtype=float32), 'class_ids': array([0]), 'classes': array([b'0'], dtype=object), 'all_class_ids': array([0, 1], dtype=int32), 'all_classes': array([b'0', b'1'], dtype=object)}, {'logits': array([-0.01877782], dtype=float32), 'logistic': array([0.4953057], dtype=float32), 'probabilities': array([0.50469434, 0.4953057 ], dtype=float32), 'class_ids': array([0]), 'classes': array([b'0'], dtype=object), 'all_class_ids': array([0, 1], dtype=int32), 'all_classes': array([b'0', b'1'], dtype=object)}, {'logits': array([-2.2998853], dtype=float32), 'logistic': array([0.09113243], dtype=float32), 'probabilities': array([0.9088675 , 0.09113245], dtype=float32), 'class_ids': array([0]), 'classes': array([b'0'], dtype=object), 'all_class_ids': array([0, 1], dtype=int32), 'all_classes': array([b'0', b'1'], dtype=object)}, {'logits': array([0.33862308], dtype=float32), 'logistic': array([0.583856], dtype=float32), 'probabilities': array([0.41614398, 0.583856  ], dtype=float32), 'class_ids': array([1]), 'classes': array([b'1'], dtype=object), 'all_class_ids': array([0, 1], dtype=int32), 'all_classes': array([b'0', b'1'], dtype=object)}, {'logits': array([1.1615138], dtype=float32), 'logistic': array([0.76160765], dtype=float32), 'probabilities': array([0.23839231, 0.76160765], dtype=float32), 'class_ids': array([1]), 'classes': array([b'1'], dtype=object), 'all_class_ids': array([0, 1], dtype=int32), 'all_classes': array([b'0', b'1'], dtype=object)}, {'logits': array([-2.4645748], dtype=float32), 'logistic': array([0.07837921], dtype=float32), 'probabilities': array([0.9216208 , 0.07837924], dtype=float32), 'class_ids': array([0]), 'classes': array([b'0'], dtype=object), 'all_class_ids': array([0, 1], dtype=int32), 'all_classes': array([b'0', b'1'], dtype=object)}, {'logits': array([0.45760396], dtype=float32), 'logistic': array([0.6124456], dtype=float32), 'probabilities': array([0.3875544, 0.6124456], dtype=float32), 'class_ids': array([1]), 'classes': array([b'1'], dtype=object), 'all_class_ids': array([0, 1], dtype=int32), 'all_classes': array([b'0', b'1'], dtype=object)}, {'logits': array([-2.4046307], dtype=float32), 'logistic': array([0.08282024], dtype=float32), 'probabilities': array([0.9171797 , 0.08282026], dtype=float32), 'class_ids': array([0]), 'classes': array([b'0'], dtype=object), 'all_class_ids': array([0, 1], dtype=int32), 'all_classes': array([b'0', b'1'], dtype=object)}, {'logits': array([-1.2113433], dtype=float32), 'logistic': array([0.22946346], dtype=float32), 'probabilities': array([0.77053654, 0.22946347], dtype=float32), 'class_ids': array([0]), 'classes': array([b'0'], dtype=object), 'all_class_ids': array([0, 1], dtype=int32), 'all_classes': array([b'0', b'1'], dtype=object)}, {'logits': array([-2.5266442], dtype=float32), 'logistic': array([0.0740113], dtype=float32), 'probabilities': array([0.92598873, 0.0740113 ], dtype=float32), 'class_ids': array([0]), 'classes': array([b'0'], dtype=object), 'all_class_ids': array([0, 1], dtype=int32), 'all_classes': array([b'0', b'1'], dtype=object)}, {'logits': array([0.45636848], dtype=float32), 'logistic': array([0.61215234], dtype=float32), 'probabilities': array([0.3878477 , 0.61215234], dtype=float32), 'class_ids': array([1]), 'classes': array([b'1'], dtype=object), 'all_class_ids': array([0, 1], dtype=int32), 'all_classes': array([b'0', b'1'], dtype=object)}, {'logits': array([-0.2535915], dtype=float32), 'logistic': array([0.43693972], dtype=float32), 'probabilities': array([0.5630603, 0.4369397], dtype=float32), 'class_ids': array([0]), 'classes': array([b'0'], dtype=object), 'all_class_ids': array([0, 1], dtype=int32), 'all_classes': array([b'0', b'1'], dtype=object)}, {'logits': array([-3.0306134], dtype=float32), 'logistic': array([0.04606181], dtype=float32), 'probabilities': array([0.9539382 , 0.04606187], dtype=float32), 'class_ids': array([0]), 'classes': array([b'0'], dtype=object), 'all_class_ids': array([0, 1], dtype=int32), 'all_classes': array([b'0', b'1'], dtype=object)}, {'logits': array([-1.748727], dtype=float32), 'logistic': array([0.14820784], dtype=float32), 'probabilities': array([0.8517922 , 0.14820784], dtype=float32), 'class_ids': array([0]), 'classes': array([b'0'], dtype=object), 'all_class_ids': array([0, 1], dtype=int32), 'all_classes': array([b'0', b'1'], dtype=object)}, {'logits': array([1.0783149], dtype=float32), 'logistic': array([0.74617493], dtype=float32), 'probabilities': array([0.25382507, 0.746175  ], dtype=float32), 'class_ids': array([1]), 'classes': array([b'1'], dtype=object), 'all_class_ids': array([0, 1], dtype=int32), 'all_classes': array([b'0', b'1'], dtype=object)}, {'logits': array([-0.941381], dtype=float32), 'logistic': array([0.28062147], dtype=float32), 'probabilities': array([0.71937853, 0.2806215 ], dtype=float32), 'class_ids': array([0]), 'classes': array([b'0'], dtype=object), 'all_class_ids': array([0, 1], dtype=int32), 'all_classes': array([b'0', b'1'], dtype=object)}, {'logits': array([0.60411954], dtype=float32), 'logistic': array([0.6465982], dtype=float32), 'probabilities': array([0.35340178, 0.6465982 ], dtype=float32), 'class_ids': array([1]), 'classes': array([b'1'], dtype=object), 'all_class_ids': array([0, 1], dtype=int32), 'all_classes': array([b'0', b'1'], dtype=object)}, {'logits': array([-0.8660989], dtype=float32), 'logistic': array([0.2960667], dtype=float32), 'probabilities': array([0.7039333 , 0.29606667], dtype=float32), 'class_ids': array([0]), 'classes': array([b'0'], dtype=object), 'all_class_ids': array([0, 1], dtype=int32), 'all_classes': array([b'0', b'1'], dtype=object)}, {'logits': array([-2.9039917], dtype=float32), 'logistic': array([0.05195653], dtype=float32), 'probabilities': array([0.94804347, 0.0519566 ], dtype=float32), 'class_ids': array([0]), 'classes': array([b'0'], dtype=object), 'all_class_ids': array([0, 1], dtype=int32), 'all_classes': array([b'0', b'1'], dtype=object)}, {'logits': array([-2.3093452], dtype=float32), 'logistic': array([0.09035188], dtype=float32), 'probabilities': array([0.90964806, 0.09035195], dtype=float32), 'class_ids': array([0]), 'classes': array([b'0'], dtype=object), 'all_class_ids': array([0, 1], dtype=int32), 'all_classes': array([b'0', b'1'], dtype=object)}, {'logits': array([-2.2176788], dtype=float32), 'logistic': array([0.09817415], dtype=float32), 'probabilities': array([0.9018259 , 0.09817412], dtype=float32), 'class_ids': array([0]), 'classes': array([b'0'], dtype=object), 'all_class_ids': array([0, 1], dtype=int32), 'all_classes': array([b'0', b'1'], dtype=object)}, {'logits': array([-4.017419], dtype=float32), 'logistic': array([0.01768112], dtype=float32), 'probabilities': array([0.9823188 , 0.01768111], dtype=float32), 'class_ids': array([0]), 'classes': array([b'0'], dtype=object), 'all_class_ids': array([0, 1], dtype=int32), 'all_classes': array([b'0', b'1'], dtype=object)}, {'logits': array([1.380065], dtype=float32), 'logistic': array([0.7990014], dtype=float32), 'probabilities': array([0.20099856, 0.7990014 ], dtype=float32), 'class_ids': array([1]), 'classes': array([b'1'], dtype=object), 'all_class_ids': array([0, 1], dtype=int32), 'all_classes': array([b'0', b'1'], dtype=object)}, {'logits': array([0.3348904], dtype=float32), 'logistic': array([0.5829488], dtype=float32), 'probabilities': array([0.41705123, 0.5829488 ], dtype=float32), 'class_ids': array([1]), 'classes': array([b'1'], dtype=object), 'all_class_ids': array([0, 1], dtype=int32), 'all_classes': array([b'0', b'1'], dtype=object)}, {'logits': array([-2.0148988], dtype=float32), 'logistic': array([0.11764753], dtype=float32), 'probabilities': array([0.8823525, 0.1176475], dtype=float32), 'class_ids': array([0]), 'classes': array([b'0'], dtype=object), 'all_class_ids': array([0, 1], dtype=int32), 'all_classes': array([b'0', b'1'], dtype=object)}, {'logits': array([-1.5749145], dtype=float32), 'logistic': array([0.17151695], dtype=float32), 'probabilities': array([0.82848305, 0.17151691], dtype=float32), 'class_ids': array([0]), 'classes': array([b'0'], dtype=object), 'all_class_ids': array([0, 1], dtype=int32), 'all_classes': array([b'0', b'1'], dtype=object)}, {'logits': array([1.1727707], dtype=float32), 'logistic': array([0.76364547], dtype=float32), 'probabilities': array([0.23635451, 0.76364547], dtype=float32), 'class_ids': array([1]), 'classes': array([b'1'], dtype=object), 'all_class_ids': array([0, 1], dtype=int32), 'all_classes': array([b'0', b'1'], dtype=object)}, {'logits': array([-1.1699033], dtype=float32), 'logistic': array([0.23687243], dtype=float32), 'probabilities': array([0.76312757, 0.23687248], dtype=float32), 'class_ids': array([0]), 'classes': array([b'0'], dtype=object), 'all_class_ids': array([0, 1], dtype=int32), 'all_classes': array([b'0', b'1'], dtype=object)}, {'logits': array([-2.5694609], dtype=float32), 'logistic': array([0.07112995], dtype=float32), 'probabilities': array([0.9288701 , 0.07112992], dtype=float32), 'class_ids': array([0]), 'classes': array([b'0'], dtype=object), 'all_class_ids': array([0, 1], dtype=int32), 'all_classes': array([b'0', b'1'], dtype=object)}, {'logits': array([0.6005323], dtype=float32), 'logistic': array([0.64577806], dtype=float32), 'probabilities': array([0.35422194, 0.64577806], dtype=float32), 'class_ids': array([1]), 'classes': array([b'1'], dtype=object), 'all_class_ids': array([0, 1], dtype=int32), 'all_classes': array([b'0', b'1'], dtype=object)}, {'logits': array([0.8478439], dtype=float32), 'logistic': array([0.7001146], dtype=float32), 'probabilities': array([0.29988536, 0.70011467], dtype=float32), 'class_ids': array([1]), 'classes': array([b'1'], dtype=object), 'all_class_ids': array([0, 1], dtype=int32), 'all_classes': array([b'0', b'1'], dtype=object)}, {'logits': array([-2.7205787], dtype=float32), 'logistic': array([0.06176987], dtype=float32), 'probabilities': array([0.93823004, 0.06176992], dtype=float32), 'class_ids': array([0]), 'classes': array([b'0'], dtype=object), 'all_class_ids': array([0, 1], dtype=int32), 'all_classes': array([b'0', b'1'], dtype=object)}, {'logits': array([-0.46861717], dtype=float32), 'logistic': array([0.3849436], dtype=float32), 'probabilities': array([0.6150564 , 0.38494357], dtype=float32), 'class_ids': array([0]), 'classes': array([b'0'], dtype=object), 'all_class_ids': array([0, 1], dtype=int32), 'all_classes': array([b'0', b'1'], dtype=object)}, {'logits': array([-1.7962115], dtype=float32), 'logistic': array([0.14231285], dtype=float32), 'probabilities': array([0.8576871 , 0.14231287], dtype=float32), 'class_ids': array([0]), 'classes': array([b'0'], dtype=object), 'all_class_ids': array([0, 1], dtype=int32), 'all_classes': array([b'0', b'1'], dtype=object)}, {'logits': array([-0.8532363], dtype=float32), 'logistic': array([0.29875445], dtype=float32), 'probabilities': array([0.70124555, 0.2987544 ], dtype=float32), 'class_ids': array([0]), 'classes': array([b'0'], dtype=object), 'all_class_ids': array([0, 1], dtype=int32), 'all_classes': array([b'0', b'1'], dtype=object)}]\n"
          ]
        }
      ],
      "source": [
        "result = list(linear_est.predict(eval_input_fn))\n",
        "print(result)"
      ]
    }
  ],
  "metadata": {
    "colab": {
      "name": "linear regression.ipynb",
      "provenance": [],
      "authorship_tag": "ABX9TyMGJElII+PgYirciHPL1NpV"
    },
    "kernelspec": {
      "display_name": "Python 3",
      "name": "python3"
    },
    "language_info": {
      "name": "python"
    }
  },
  "nbformat": 4,
  "nbformat_minor": 0
}
